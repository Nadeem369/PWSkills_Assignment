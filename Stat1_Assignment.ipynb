{
 "cells": [
  {
   "cell_type": "markdown",
   "id": "8e6f4105",
   "metadata": {},
   "source": [
    "### Q1. What is statistics ?"
   ]
  },
  {
   "cell_type": "raw",
   "id": "92ce3f8d",
   "metadata": {},
   "source": [
    "Statistics is a science of collecting, organizing and analysing data, it provide a method and techiniques for making sense of large amount of information."
   ]
  },
  {
   "cell_type": "markdown",
   "id": "38dc68e1",
   "metadata": {},
   "source": [
    "### Q2. Define the different types of statistics and give an example of when each type might be used."
   ]
  },
  {
   "cell_type": "raw",
   "id": "130aa821",
   "metadata": {},
   "source": [
    "There are two man types of statistics,\n",
    "Descrptive statistics\n",
    "Infrential statistics"
   ]
  },
  {
   "cell_type": "markdown",
   "id": "8722205d",
   "metadata": {},
   "source": [
    "#### Descrptive statistics"
   ]
  },
  {
   "cell_type": "raw",
   "id": "aa4d3d3e",
   "metadata": {},
   "source": [
    "Descriptive statistics involve methods of summarizing and describing the main features of a dataset. They are used to present the data in a meaningful and concise way. Some common descriptive statistics include measures of central tendency (mean, median, mode) and measures of dispersion (range, variance, standard deviation)."
   ]
  },
  {
   "cell_type": "raw",
   "id": "67f93e12",
   "metadata": {},
   "source": [
    "Example: Imagine a company wants to understand the average age of its employees. They collect the ages of all employees and calculate the mean age. This gives them a single value that summarizes the typical age of their workforce."
   ]
  },
  {
   "cell_type": "markdown",
   "id": "4fa873ec",
   "metadata": {},
   "source": [
    "#### Infrential Statistics"
   ]
  },
  {
   "cell_type": "raw",
   "id": "a9728abf",
   "metadata": {},
   "source": [
    "Inferential statistics involve making predictions or inferences about a larger population based on a sample of data. These methods use probability theory to estimate parameters of the population and to assess the reliability of those estimates."
   ]
  },
  {
   "cell_type": "raw",
   "id": "db12bdd0",
   "metadata": {},
   "source": [
    "Example: A pharmaceutical company is testing a new drug to lower blood pressure. They conduct a clinical trial with a sample of 500 participants. After the trial, they use inferential statistics to determine whether the observed decrease in blood pressure in the sample is likely to represent a true effect in the broader population. Hypothesis testing and confidence intervals are common inferential techniques used in such cases."
   ]
  },
  {
   "cell_type": "markdown",
   "id": "278a965e",
   "metadata": {},
   "source": [
    "### Q3. What are the different types of data and how do they differ from each other? Provide an example of each type of data."
   ]
  },
  {
   "cell_type": "raw",
   "id": "7341d591",
   "metadata": {},
   "source": [
    "Data can be classified into different types based on their nature and characteristics. The main types of data are nominal, ordinal, interval, and ratio. These types of data have distinct properties that determine the level of measurement and the types of statistical analysis that can be applied. Let's define each type and provide an example for each:"
   ]
  },
  {
   "cell_type": "markdown",
   "id": "3830cf7f",
   "metadata": {},
   "source": [
    "#### Nominal Data"
   ]
  },
  {
   "cell_type": "raw",
   "id": "900863f2",
   "metadata": {},
   "source": [
    "Nominal data represent categories or labels with no inherent order or ranking. They are often used for qualitative or categorical variables.\n",
    "\n",
    "Example: Colors of cars in a parking lot (e.g., red, blue, green) or types of animals in a zoo (e.g., lions, elephants, giraffes)."
   ]
  },
  {
   "cell_type": "markdown",
   "id": "d610881c",
   "metadata": {},
   "source": [
    "#### Ordinal Data"
   ]
  },
  {
   "cell_type": "raw",
   "id": "ded7f43e",
   "metadata": {},
   "source": [
    "Ordinal data represent categories with a specific order or ranking between them. However, the differences between the categories may not be uniform or well-defined.\n",
    "\n",
    "Example: Survey responses indicating satisfaction levels (e.g., \"very dissatisfied,\" \"dissatisfied,\" \"neutral,\" \"satisfied,\" \"very satisfied\"). While we know the order, we don't necessarily know the exact difference in satisfaction between each category."
   ]
  },
  {
   "cell_type": "markdown",
   "id": "4b5b809a",
   "metadata": {},
   "source": [
    "#### Interval Data"
   ]
  },
  {
   "cell_type": "raw",
   "id": "5c588d4f",
   "metadata": {},
   "source": [
    "Interval data have a specific order between values, and the differences between consecutive values are meaningful and consistent. However, they lack a true \"zero\" point.\n",
    "\n",
    "Example: Temperature measured in Celsius or Fahrenheit. The difference between 20°C and 30°C is the same as the difference between 70°F and 80°F, but neither scale has a true zero point."
   ]
  },
  {
   "cell_type": "markdown",
   "id": "a34e71df",
   "metadata": {},
   "source": [
    "#### Ratio Data"
   ]
  },
  {
   "cell_type": "raw",
   "id": "cae88975",
   "metadata": {},
   "source": [
    "Ratio data have a specific order, consistent intervals, and a true \"zero\" point that represents the absence of the variable.\n",
    "\n",
    "Example: Height, weight, age, and income are examples of ratio data. A height of 0 cm indicates no height, and it's meaningful to say that someone twice as heavy as another person."
   ]
  },
  {
   "cell_type": "markdown",
   "id": "7f1306ed",
   "metadata": {},
   "source": [
    "#### It's important to note that the type of data influences the types of statistical analysis that can be performed:"
   ]
  },
  {
   "cell_type": "raw",
   "id": "6f85d7ec",
   "metadata": {},
   "source": [
    "Nominal data: Analysis includes frequency counts, mode, and chi-squared tests.\n",
    "\n",
    "Ordinal data: Median, mode, percentiles, and nonparametric tests like Mann-Whitney U test or Kruskal-Wallis test.\n",
    "\n",
    "Interval data: Mean, median, standard deviation, and parametric tests like t-tests and ANOVA.\n",
    "\n",
    "Ratio data: All statistical analyses, including mean, median, standard deviation, correlation, regression, and parametric tests."
   ]
  },
  {
   "cell_type": "markdown",
   "id": "b1db2c6a",
   "metadata": {},
   "source": [
    "### Q4.\n",
    "Categorise the following datasets with respect to quantitative and qualitative data types:\n",
    "(i) Grading in exam: A+, A, B+, B, C+, C, D, E\n",
    "(ii) Colour of mangoes: yellow, green, orange, red\n",
    "(iii) Height data of a class: [178.9, 179, 179.5, 176, 177.2, 178.3, 175.8,...]\n",
    "(iv) Number of mangoes exported by a farm: [500, 600, 478, 672, ...]"
   ]
  },
  {
   "cell_type": "markdown",
   "id": "8071caab",
   "metadata": {},
   "source": [
    "#### (i) Grading in exam: Qualitative (ordinal) data"
   ]
  },
  {
   "cell_type": "raw",
   "id": "44f8dace",
   "metadata": {},
   "source": [
    "The grades have a specific order, but the differences between the grades are can not be measured."
   ]
  },
  {
   "cell_type": "markdown",
   "id": "b8372a04",
   "metadata": {},
   "source": [
    "#### (ii) Colour of mangoes: Qualitative (nominal) data"
   ]
  },
  {
   "cell_type": "raw",
   "id": "cd5a356c",
   "metadata": {},
   "source": [
    "The colors have no inherent order or ranking, and they represent distinct categories."
   ]
  },
  {
   "cell_type": "markdown",
   "id": "f111e306",
   "metadata": {},
   "source": [
    "#### (iii) Height data of a class: Quantitative (ratio) data"
   ]
  },
  {
   "cell_type": "markdown",
   "id": "5d3e9c37",
   "metadata": {},
   "source": [
    "Height values have a specific order, consistent intervals, and a true \"zero\" point (height of 0 cm represents no height).\n"
   ]
  },
  {
   "cell_type": "markdown",
   "id": "e8bf055a",
   "metadata": {},
   "source": [
    "#### (iv) Number of mangoes exported by a farm: Quantitative (ratio) data"
   ]
  },
  {
   "cell_type": "raw",
   "id": "6815d0b2",
   "metadata": {},
   "source": [
    "Number values have a specific order, consistent intervals, and a true \"zero\" point (zero exported mangoes)."
   ]
  },
  {
   "cell_type": "markdown",
   "id": "9ad0418e",
   "metadata": {},
   "source": [
    "### Q5. Explain the concept of levels of measurement and give an example of a variable for each level."
   ]
  },
  {
   "cell_type": "raw",
   "id": "2718d350",
   "metadata": {},
   "source": [
    "Levels of measurement, also known as scales of measurement, refer to the different ways in which data can be measured and classified based on the properties and characteristics of the data. There are four main levels of measurement: nominal, ordinal, interval, and ratio. Each level has specific properties that dictate the type of operations and analyses that can be applied to the data. Let's go through each level and provide an example of a variable for each:"
   ]
  },
  {
   "cell_type": "markdown",
   "id": "651f3916",
   "metadata": {},
   "source": [
    "#### Nominal Level:"
   ]
  },
  {
   "cell_type": "raw",
   "id": "5f798ca7",
   "metadata": {},
   "source": [
    "At the nominal level, data are categorized into distinct and unrelated groups or categories. There is no inherent order or ranking among the categories.\n",
    "\n",
    "Example: Eye color of individuals (blue, brown, green). The categories have no meaningful order, and one isn't \"greater\" or \"lesser\" than the other."
   ]
  },
  {
   "cell_type": "markdown",
   "id": "7a93927a",
   "metadata": {},
   "source": [
    "#### Ordinal Level:"
   ]
  },
  {
   "cell_type": "raw",
   "id": "11623751",
   "metadata": {},
   "source": [
    "In the ordinal level, data can be ranked or ordered, but the differences between values are not necessarily uniform or meaningful.\n",
    "\n",
    "Example: Education levels (high school, bachelor's, master's, PhD). While there is an order in terms of educational attainment, the difference between high school and bachelor's is not quantitatively the same as the difference between bachelor's and master's."
   ]
  },
  {
   "cell_type": "markdown",
   "id": "667da843",
   "metadata": {},
   "source": [
    "#### Interval Level:"
   ]
  },
  {
   "cell_type": "raw",
   "id": "530b8692",
   "metadata": {},
   "source": [
    "At the interval level, data have meaningful order and consistent intervals between values. However, there is no true \"zero\" point, meaning that a value of zero doesn't indicate the absence of the quantity.\n",
    "\n",
    "Example: Temperature in Celsius or Fahrenheit. While there is a meaningful order and equal intervals between degrees, a temperature of 0°C doesn't mean there's no temperature."
   ]
  },
  {
   "cell_type": "markdown",
   "id": "a767bab5",
   "metadata": {},
   "source": [
    "#### Ratio Level:"
   ]
  },
  {
   "cell_type": "raw",
   "id": "9c2c3900",
   "metadata": {},
   "source": [
    "The ratio level is the highest level of measurement. Data have a meaningful order, consistent intervals, and a true \"zero\" point that represents the absence of the quantity.\n",
    "\n",
    "Example: Height, weight, income. These variables have a meaningful order, equal intervals, and a true zero point (zero height, weight, or income)."
   ]
  },
  {
   "cell_type": "raw",
   "id": "d8e4a858",
   "metadata": {},
   "source": [
    "Nominal level involves categorizing data without any order.\n",
    "Ordinal level involves ordered categories with non-uniform differences.\n",
    "Interval level involves ordered categories with uniform differences and no true zero point.\n",
    "Ratio level involves ordered categories with uniform differences and a true zero point."
   ]
  },
  {
   "cell_type": "markdown",
   "id": "10db85b8",
   "metadata": {},
   "source": [
    "### Q6. Why is it important to understand the level of measurement when analyzing data? Provide an example to illustrate your answer."
   ]
  },
  {
   "cell_type": "raw",
   "id": "e4691cbd",
   "metadata": {},
   "source": [
    "Understanding the level of measurement is crucial when analyzing data because it determines the types of analyses and operations that can be performed on the data, as well as the appropriate ways to interpret the results. Using the wrong type of analysis for a given level of measurement can lead to incorrect conclusions and misinterpretations. Let's illustrate this with an example:"
   ]
  },
  {
   "cell_type": "raw",
   "id": "58452932",
   "metadata": {},
   "source": [
    "Imagine you are analyzing data from a survey that asks respondents to rate their satisfaction with a product on a scale from 1 to 5 (1 being \"very dissatisfied\" and 5 being \"very satisfied\"). The data collected from this survey is ordinal because the responses have an ordered structure, but the differences between the satisfaction levels might not be uniformly meaningful"
   ]
  },
  {
   "cell_type": "raw",
   "id": "f3fa7297",
   "metadata": {},
   "source": [
    "Scenario 1: Treating Ordinal Data as Interval Data\n",
    "In this scenario, you decide to treat the ordinal data as if it were interval data and calculate the mean satisfaction score for each product.\n",
    "\n",
    "For Product A:\n",
    "Responses: 4, 5, 3, 2, 4\n",
    "Mean: (4 + 5 + 3 + 2 + 4) / 5 = 3.6\n",
    "\n",
    "For Product B:\n",
    "Responses: 3, 4, 4, 3, 2\n",
    "Mean: (3 + 4 + 4 + 3 + 2) / 5 = 3.2\n",
    "\n",
    "You might conclude that Product A has a higher average satisfaction score compared to Product B. However, treating ordinal data as interval data can be misleading because the differences between the satisfaction levels might not be consistent or equal. A difference of 1 point might not necessarily mean the same level of difference across the entire scale."
   ]
  },
  {
   "cell_type": "raw",
   "id": "93c4956b",
   "metadata": {},
   "source": [
    "Scenario 2: Using Appropriate Analysis for Ordinal Data\n",
    "In this scenario, you use nonparametric tests like the Mann-Whitney U test or the Kruskal-Wallis test to compare satisfaction levels between different products. These tests are more suitable for ordinal data because they do not assume that the differences between categories are uniform.\n",
    "\n",
    "By using appropriate tests, you find that there is no statistically significant difference in satisfaction between Product A and Product B, which aligns better with the nature of ordinal data.\n",
    "\n",
    "In this example, understanding the level of measurement (ordinal in this case) helped you choose the right type of analysis to avoid making incorrect conclusions. This illustrates why it's important to correctly identify the level of measurement to ensure that your analyses and interpretations accurately reflect the characteristics of the data."
   ]
  },
  {
   "cell_type": "markdown",
   "id": "7c901362",
   "metadata": {},
   "source": [
    "### Q7. How nominal data type is different from ordinal data type."
   ]
  },
  {
   "cell_type": "raw",
   "id": "1f7060e0",
   "metadata": {},
   "source": [
    "The key difference between nominal and ordinal data lies in the presence of a meaningful order or ranking. Nominal data has no order, while ordinal data has a defined order but lacks information about the size of differences between categories. Understanding the nature of your categorical data is essential for choosing appropriate analysis techniques and making meaningful interpretations."
   ]
  },
  {
   "cell_type": "markdown",
   "id": "758c6075",
   "metadata": {},
   "source": [
    "### Q8. Which type of plot can be used to display data in terms of range?"
   ]
  },
  {
   "cell_type": "raw",
   "id": "5d4a366d",
   "metadata": {},
   "source": [
    "To display data in terms of its range, you can use various types of plots and charts depending on the nature of your data and the specific insights you want to convey. Here are some common types of plots that are useful for displaying data in terms of its range:\n",
    "\n",
    "Box Plot (Box-and-Whisker Plot): Box plots are excellent for visualizing the spread or range of data, including the minimum, maximum, median, quartiles (interquartile range), and potential outliers. They provide a quick summary of the data's central tendency and variability.\n",
    "\n",
    "Histogram: Histograms show the distribution of data by dividing it into intervals (bins) and counting the number of data points in each bin. They help you understand how data is distributed across a range of values.\n",
    "\n",
    "Stem-and-Leaf Plot: Stem-and-leaf plots display individual data points in a way that allows you to see the range and distribution. Each data point is broken down into a stem (usually the leftmost digit) and a leaf (the remaining digits). This type of plot is especially useful for smaller datasets.\n",
    "\n",
    "Range Plot: A range plot is a simple line plot that connects the minimum and maximum values of a dataset, creating a line that spans the range of the data points. It provides a clear visual representation of the data's extent.\n",
    "\n",
    "Violin Plot: Violin plots combine aspects of box plots and kernel density plots to show the distribution and range of data. They provide a more detailed view of data density across its range.\n",
    "\n",
    "Error Bars: Error bars are often used in line plots, bar charts, and scatterplots to display the variability or range of data points. They can represent standard deviation, standard error, confidence intervals, or other measures of uncertainty.\n",
    "\n",
    "Run Charts: Run charts display data points over time and can help you identify trends and variation within a range. They are commonly used in process control and quality improvement.\n",
    "\n",
    "The choice of plot depends on the specific characteristics of your data and the message you want to convey. Box plots and histograms are among the most commonly used options for displaying data in terms of its range, but other plots can also be valuable depending on the context and your analytical goals."
   ]
  },
  {
   "cell_type": "markdown",
   "id": "41dfe6f4",
   "metadata": {},
   "source": [
    "### Q9. Describe the difference between descriptive and inferential statistics. Give an example of each type of statistics and explain how they are used."
   ]
  },
  {
   "cell_type": "raw",
   "id": "ac1cdb06",
   "metadata": {},
   "source": [
    "Descriptive statistics summarize and describe data, while inferential statistics go a step further by allowing you to make informed guesses, test hypotheses, and draw conclusions about larger populations based on sample data. Both types of statistics are essential in data analysis and decision-making, serving different purposes in the process."
   ]
  },
  {
   "cell_type": "raw",
   "id": "b45d4b23",
   "metadata": {},
   "source": [
    "Example of Descriptive Statistics:\n",
    "\n",
    "Let's say you have collected the test scores of 100 students in a class. Descriptive statistics would involve calculating and presenting measures such as the mean (average), median (middle value), and standard deviation (measure of spread) of these test scores. You might create a histogram or a bar chart to visualize the distribution of scores. The goal is to provide a summary of the class's performance on the test."
   ]
  },
  {
   "cell_type": "raw",
   "id": "8deb71a5",
   "metadata": {},
   "source": [
    "Example of Inferential Statistics:\n",
    "\n",
    "Suppose you want to know whether a new teaching method improves test scores for all students in a school (the population). You select a random sample of 50 students, apply the new teaching method to this sample, and then compare their test scores to the rest of the students who didn't receive the new method. You use inferential statistics to determine if the observed differences in test scores between the two groups are statistically significant, allowing you to make conclusions about the entire student population."
   ]
  },
  {
   "cell_type": "markdown",
   "id": "67a6293c",
   "metadata": {},
   "source": [
    "### Q10. What are some common measures of central tendency and variability used in statistics? Explain how each measure can be used to describe a dataset."
   ]
  },
  {
   "cell_type": "raw",
   "id": "ede6d28c",
   "metadata": {},
   "source": [
    "In statistics, measures of central tendency and measures of variability are essential tools for summarizing and describing datasets. They help us understand the typical or central values of a dataset and how spread out the data points are. Here are some common measures of central tendency and variability:"
   ]
  },
  {
   "cell_type": "raw",
   "id": "f3165f93",
   "metadata": {},
   "source": [
    "Measures of Central Tendency:\n",
    "\n",
    "Mean (Average):\n",
    "\n",
    "Description: The mean is the sum of all data points divided by the number of data points.\n",
    "Use: It provides the \"typical\" value of a dataset. You add up all the values and divide by how many there are.\n",
    "Example: If you have test scores of 85, 90, 92, 88, and 75, the mean score is (85 + 90 + 92 + 88 + 75) / 5 = 86.\n",
    "Median:\n",
    "\n",
    "Median\n",
    "\n",
    "The median is the middle value in a dataset when the data points are arranged in ascending or descending order.\n",
    "Use: It represents the middle value, which is less affected by extreme values (outliers).\n",
    "Example: In the dataset [10, 12, 15, 20, 25], the median is 15 because it's the middle value.\n",
    "Mode:\n",
    "\n",
    "Mode\n",
    "\n",
    "The mode is the value that appears most frequently in a dataset.\n",
    "Use: It indicates the most common value or category in the dataset.\n",
    "Example: In the dataset [5, 7, 5, 10, 7, 3, 5], the mode is 5 because it appears three times, more than any other value."
   ]
  },
  {
   "cell_type": "raw",
   "id": "eccf1fe7",
   "metadata": {},
   "source": [
    "Measures of Variability (Dispersion):\n",
    "\n",
    "Range:\n",
    "\n",
    "The range is the difference between the maximum and minimum values in a dataset.\n",
    "Use: It provides a simple measure of how spread out the data is.\n",
    "Example: In the dataset [20, 35, 10, 45, 15], the range is 45 - 10 = 35.\n",
    "Variance:\n",
    "\n",
    "Variance:\n",
    "\n",
    "Variance measures how much each data point differs from the mean, squared, and then averaged.\n",
    "Use: It quantifies the spread or dispersion of data, with larger variances indicating more spread.\n",
    "Example: Variance for [10, 12, 15, 20, 25] is calculated as (6.8).\n",
    "\n",
    "Standard Deviation:\n",
    "\n",
    "Description: The standard deviation is the square root of the variance.\n",
    "Use: It measures the average distance between each data point and the mean, providing a more interpretable measure of spread.\n",
    "Example: The standard deviation for the dataset [10, 12, 15, 20, 25] is approximately 2.61."
   ]
  },
  {
   "cell_type": "raw",
   "id": "296bdba2",
   "metadata": {},
   "source": [
    "These measures of central tendency and variability are fundamental in statistical analysis and data interpretation. They help us describe the key characteristics of datasets, assess their variability, and make comparisons between different sets of data. The choice of which measure to use often depends on the nature of the data and the specific questions you want to answer."
   ]
  },
  {
   "cell_type": "code",
   "execution_count": null,
   "id": "b6c5a9f1",
   "metadata": {},
   "outputs": [],
   "source": []
  }
 ],
 "metadata": {
  "kernelspec": {
   "display_name": "Python 3 (ipykernel)",
   "language": "python",
   "name": "python3"
  },
  "language_info": {
   "codemirror_mode": {
    "name": "ipython",
    "version": 3
   },
   "file_extension": ".py",
   "mimetype": "text/x-python",
   "name": "python",
   "nbconvert_exporter": "python",
   "pygments_lexer": "ipython3",
   "version": "3.11.1"
  }
 },
 "nbformat": 4,
 "nbformat_minor": 5
}
