{
 "cells": [
  {
   "cell_type": "markdown",
   "id": "c3b0cd28",
   "metadata": {},
   "source": [
    "# Statistics Assignment_2"
   ]
  },
  {
   "cell_type": "markdown",
   "id": "dd5c12f4",
   "metadata": {},
   "source": [
    "### Q1. What are the three measures of central tendency?"
   ]
  },
  {
   "cell_type": "raw",
   "id": "ab0a4b3c",
   "metadata": {},
   "source": [
    "The three primary measures of central tendency in statistics are:\n",
    "\n",
    "Mean (Average): The mean is the sum of all the values in a dataset divided by the number of values. It represents the arithmetic average of the data.\n",
    "\n",
    "Formula: Mean (μ) = (Sum of all values) / (Number of values)\n",
    "\n",
    "Median: The median is the middle value when the data is arranged in ascending or descending order. If there is an even number of values, the median is the average of the two middle values.\n",
    "\n",
    "Calculation: To find the median, first sort the data, and then select the middle value(s).\n",
    "\n",
    "Mode: The mode is the value that appears most frequently in a dataset. A dataset can have one mode (unimodal) or more than one mode (multimodal).\n",
    "\n",
    "Calculation: Identify the value(s) that occur with the highest frequency in the dataset.\n",
    "\n",
    "These measures provide different ways to describe the central or typical value of a dataset, and each has its own strengths and use cases in data analysis."
   ]
  },
  {
   "cell_type": "markdown",
   "id": "c0f44e58",
   "metadata": {},
   "source": [
    "### Q2. What is the difference between the mean, median, and mode? How are they used to measure the central tendency of a dataset?"
   ]
  },
  {
   "cell_type": "raw",
   "id": "8f2debf2",
   "metadata": {},
   "source": [
    "Mean, median, and mode are three measures of central tendency used to describe the typical or central value of a dataset. Here are the key differences and how they are used:\n",
    "\n",
    "Mean (Average):\n",
    "\n",
    "Definition: The mean is the sum of all values in a dataset divided by the number of values.\n",
    "Use: It provides the arithmetic average of the data. The mean is sensitive to extreme values (outliers) because it considers all values equally. It is often used when you want to find a balanced representation of the data's central tendency.\n",
    "Median:\n",
    "\n",
    "Definition: The median is the middle value when the data is sorted in ascending or descending order. If there is an even number of values, the median is the average of the two middle values.\n",
    "Use: It represents the middle value of the dataset. The median is less affected by outliers compared to the mean, making it useful when the data contains extreme values or when you want to find the value that splits the data into two equal halves.\n",
    "Mode:\n",
    "\n",
    "Definition: The mode is the value that appears most frequently in a dataset. A dataset can have one mode (unimodal) or more than one mode (multimodal).\n",
    "Use: It identifies the most common value(s) in the dataset. The mode is suitable for categorical or discrete data and helps identify the data point(s) with the highest frequency."
   ]
  },
  {
   "cell_type": "raw",
   "id": "a9d0b4f3",
   "metadata": {},
   "source": [
    "How They Measure Central Tendency:\n",
    "\n",
    "Mean: The mean measures central tendency by finding the balance point of all values. It provides an average that considers all data points equally.\n",
    "Median: The median measures central tendency by identifying the middle value(s) of the sorted data. It's robust against outliers and provides insight into the middle position of the data.\n",
    "Mode: The mode measures central tendency by identifying the most frequently occurring value(s) in the dataset. It tells you which value(s) appear(s) most often.\n",
    "The choice of which measure to use depends on the nature of the data and the specific characteristics of the dataset. For normally distributed data without outliers, the mean is often appropriate. However, in the presence of outliers or skewed data, the median or mode may be more appropriate measures to describe central tendency."
   ]
  },
  {
   "cell_type": "markdown",
   "id": "2d09bb16",
   "metadata": {},
   "source": [
    "### Q3. Measure the three measures of central tendency for the given height data:\n",
    "#### [178,177,176,177,178.2,178,175,179,180,175,178.9,176.2,177,172.5,178,176.5]"
   ]
  },
  {
   "cell_type": "code",
   "execution_count": 2,
   "id": "08adcc50",
   "metadata": {},
   "outputs": [],
   "source": [
    "import numpy as np"
   ]
  },
  {
   "cell_type": "code",
   "execution_count": 3,
   "id": "860f476c",
   "metadata": {},
   "outputs": [],
   "source": [
    "Data = [178,177,176,177,178.2,178,175,179,180,175,178.9,176.2,177,172.5,178,176.5]"
   ]
  },
  {
   "cell_type": "code",
   "execution_count": 14,
   "id": "93585b41",
   "metadata": {},
   "outputs": [
    {
     "name": "stdout",
     "output_type": "stream",
     "text": [
      "Mean Hight: 177.01875\n"
     ]
    }
   ],
   "source": [
    "# Mean\n",
    "\n",
    "mean_hight =  np.mean(Data)\n",
    "print(\"Mean Hight:\", mean_hight)"
   ]
  },
  {
   "cell_type": "code",
   "execution_count": 16,
   "id": "926a3058",
   "metadata": {},
   "outputs": [
    {
     "name": "stdout",
     "output_type": "stream",
     "text": [
      "Median Hight: 177.0\n"
     ]
    }
   ],
   "source": [
    "# Median\n",
    "\n",
    "median_hight = np.median(Data)\n",
    "print(\"Median Hight:\", median_hight)"
   ]
  },
  {
   "cell_type": "code",
   "execution_count": 9,
   "id": "1fae1ad7",
   "metadata": {},
   "outputs": [
    {
     "name": "stdout",
     "output_type": "stream",
     "text": [
      "Requirement already satisfied: scipy in c:\\python311\\lib\\site-packages (1.11.2)\n",
      "Requirement already satisfied: numpy<1.28.0,>=1.21.6 in c:\\python311\\lib\\site-packages (from scipy) (1.25.2)\n",
      "Note: you may need to restart the kernel to use updated packages.\n"
     ]
    },
    {
     "name": "stderr",
     "output_type": "stream",
     "text": [
      "\n",
      "[notice] A new release of pip is available: 23.1.2 -> 23.2.1\n",
      "[notice] To update, run: python.exe -m pip install --upgrade pip\n"
     ]
    }
   ],
   "source": [
    "pip install scipy"
   ]
  },
  {
   "cell_type": "code",
   "execution_count": 11,
   "id": "fbbe2679",
   "metadata": {},
   "outputs": [],
   "source": [
    "from scipy import stats"
   ]
  },
  {
   "cell_type": "code",
   "execution_count": 17,
   "id": "4dc708d1",
   "metadata": {},
   "outputs": [
    {
     "name": "stdout",
     "output_type": "stream",
     "text": [
      "Mode Hight: ModeResult(mode=177.0, count=3)\n"
     ]
    }
   ],
   "source": [
    "# Mode\n",
    "\n",
    "mode_hight =  stats.mode(Data)\n",
    "print(\"Mode Hight:\", mode_hight )"
   ]
  },
  {
   "cell_type": "markdown",
   "id": "26018b39",
   "metadata": {},
   "source": [
    "### Q4. Find the standard deviation for the given data:\n",
    "### [178,177,176,177,178.2,178,175,179,180,175,178.9,176.2,177,172.5,178,176.5]"
   ]
  },
  {
   "cell_type": "code",
   "execution_count": 22,
   "id": "fb04fde9",
   "metadata": {},
   "outputs": [],
   "source": [
    "import numpy as np"
   ]
  },
  {
   "cell_type": "code",
   "execution_count": 23,
   "id": "74252b4e",
   "metadata": {},
   "outputs": [],
   "source": [
    "Data =[178,177,176,177,178.2,178,175,179,180,175,178.9,176.2,177,172.5,178,176.5]"
   ]
  },
  {
   "cell_type": "code",
   "execution_count": 24,
   "id": "3b9ce158",
   "metadata": {},
   "outputs": [],
   "source": [
    "std_daviation = np.std(Data, ddof=0)"
   ]
  },
  {
   "cell_type": "code",
   "execution_count": 25,
   "id": "10cbc01b",
   "metadata": {},
   "outputs": [
    {
     "name": "stdout",
     "output_type": "stream",
     "text": [
      "Standard Daviation Of Given Data Will Be: 1.7885814036548633\n"
     ]
    }
   ],
   "source": [
    "print(\"Standard Daviation Of Given Data Will Be:\", std_daviation)"
   ]
  },
  {
   "cell_type": "markdown",
   "id": "c12eaf56",
   "metadata": {},
   "source": [
    "### Q5. How are measures of dispersion such as range, variance, and standard deviation used to describe the spread of a dataset? Provide an example."
   ]
  },
  {
   "cell_type": "raw",
   "id": "ffabadee",
   "metadata": {},
   "source": [
    "Measures of dispersion, including range, variance, and standard deviation, are used to quantify and describe the spread or variability of a dataset. They provide valuable information about how data points are distributed around a central value (such as the mean) and how spread out they are from one another. Here's how each of these measures is used to describe dataset spread, along with an example:"
   ]
  },
  {
   "cell_type": "raw",
   "id": "e6012eb2",
   "metadata": {},
   "source": [
    "Definition: The range is the simplest measure of dispersion, calculated as the difference between the maximum and minimum values in the dataset.\n",
    "\n",
    "Use: It provides a rough estimate of the extent of the spread, indicating the span from the lowest to the highest value.\n",
    "\n",
    "Example: Consider two datasets of test scores:\n",
    "Dataset A: [85, 92, 78, 95, 68]\n",
    "Dataset B: [55, 75, 65, 80, 90]\n",
    "Range of A = 95 - 68 = 27\n",
    "Range of B = 90 - 55 = 35\n",
    "In this example, Dataset B has a wider range, indicating greater spread."
   ]
  },
  {
   "cell_type": "raw",
   "id": "565366fe",
   "metadata": {},
   "source": [
    "2. Variance:\n",
    "\n",
    "Definition: Variance measures how each data point differs from the mean, squared, and then averaged.\n",
    "\n",
    "Use: It quantifies the average squared distance of data points from the mean. Larger variance values indicate greater spread.\n",
    "\n",
    "Example: Consider two datasets of students' ages:\n",
    "Dataset X: [22, 24, 26, 23, 27]\n",
    "Dataset Y: [18, 19, 20, 21, 22]\n",
    "Variance of X ≈ 3.5\n",
    "Variance of Y ≈ 3.5\n",
    "In this example, both datasets have the same variance, indicating similar spread around their respective means."
   ]
  },
  {
   "cell_type": "raw",
   "id": "4c3372a2",
   "metadata": {},
   "source": [
    "3. Standard Deviation:\n",
    "\n",
    "Definition: The standard deviation is the square root of the variance.\n",
    "\n",
    "Use: It measures the average distance of data points from the mean in the same units as the original data. It's a more interpretable measure of spread than variance.\n",
    "\n",
    "Example: Using the same age datasets as above:\n",
    "Standard Deviation of X ≈ 1.87\n",
    "Standard Deviation of Y ≈ 1.87\n",
    "Both datasets have the same standard deviation, showing similar spread."
   ]
  },
  {
   "cell_type": "raw",
   "id": "28c16433",
   "metadata": {},
   "source": [
    "In summary, these measures of dispersion help us understand how data points are distributed around the central tendency (mean) and whether the data is tightly clustered or widely spread out. A larger range, variance, or standard deviation indicates greater variability or spread, while smaller values suggest less variability. The choice of which measure to use often depends on the specific characteristics of the data and the level of detail required for analysis."
   ]
  },
  {
   "cell_type": "markdown",
   "id": "25b3051b",
   "metadata": {},
   "source": [
    "### Q6. What is a Venn diagram?"
   ]
  },
  {
   "cell_type": "raw",
   "id": "97789059",
   "metadata": {},
   "source": [
    "A Venn diagram is a graphical representation used to show the relationships between sets or groups of objects or elements. It was developed by John Venn, a British mathematician and logician, in the late 19th century. Venn diagrams are commonly used in mathematics, logic, statistics, and various fields to visually illustrate the overlapping or non-overlapping characteristics of different sets.\n",
    "\n",
    "A typical Venn diagram consists of overlapping circles, each circle representing a set or a group of items. The areas where the circles overlap indicate the elements that belong to multiple sets, showing the commonality between those sets. The regions outside the circles represent elements that are unique to each set."
   ]
  },
  {
   "cell_type": "raw",
   "id": "340a8a30",
   "metadata": {},
   "source": [
    "Key components of a Venn diagram:\n",
    "\n",
    "Circles: Each circle in the diagram represents a set or category. The size and placement of the circles can vary based on the relationships being illustrated.\n",
    "\n",
    "Overlapping Regions: When circles overlap, the shaded regions represent elements that are shared or common between the sets.\n",
    "\n",
    "Non-Overlapping Regions: The parts of the circles that do not overlap represent elements that are unique to each set and do not belong to any other set."
   ]
  },
  {
   "cell_type": "raw",
   "id": "07db931e",
   "metadata": {},
   "source": [
    "Venn diagrams are particularly useful for:\n",
    "\n",
    "Comparisons: They allow you to compare the characteristics or elements of different sets and identify both shared and distinct attributes.\n",
    "\n",
    "Logical Relationships: Venn diagrams are used in logic to visualize the relationships between different propositions, helping to illustrate concepts like union, intersection, complement, and more.\n",
    "\n",
    "Problem Solving: In mathematics and statistics, Venn diagrams can help solve problems related to set theory, probability, and data analysis.\n",
    "\n",
    "Visualization: They provide a clear and intuitive way to convey complex relationships, making them useful for teaching and presenting information."
   ]
  },
  {
   "cell_type": "raw",
   "id": "998398db",
   "metadata": {},
   "source": [
    "There are also variations of Venn diagrams, including Euler diagrams, which can represent more complex relationships between sets. Venn diagrams are a valuable tool for both education and problem-solving, allowing for a visual understanding of set relationships and intersections."
   ]
  },
  {
   "cell_type": "markdown",
   "id": "0998088b",
   "metadata": {},
   "source": [
    "### Q7. For the two given sets A = (2,3,4,5,6,7) & B = (0,2,6,8,10). Find:\n",
    "### (i) A B\n",
    "### (ii) A ⋃ B"
   ]
  },
  {
   "cell_type": "raw",
   "id": "1b830cd4",
   "metadata": {},
   "source": [
    "(i) A union B:\n",
    "\n",
    "To find A ∪ B, you combine all the unique elements from sets A and B:\n",
    "\n",
    "A ∪ B = {0, 2, 3, 4, 5, 6, 7, 8, 10}\n",
    "\n",
    "So, A ∪ B contains all the distinct elements from both sets A and B."
   ]
  },
  {
   "cell_type": "raw",
   "id": "7b695383",
   "metadata": {},
   "source": [
    "(ii) A ⋃ B:\n",
    "\n",
    "A ⋃ B is another way to represent the union of sets A and B, using a different symbol. It also represents the same set as A ∪ B:\n",
    "\n",
    "A ⋃ B = {0, 2, 3, 4, 5, 6, 7, 8, 10}\n",
    "\n",
    "Both A ∪ B and A ⋃ B represent the union of sets A and B, which contains all the unique elements from both sets."
   ]
  },
  {
   "cell_type": "markdown",
   "id": "2bbd5fd6",
   "metadata": {},
   "source": [
    "### Q8. What do you understand about skewness in data?"
   ]
  },
  {
   "cell_type": "raw",
   "id": "1eeb7642",
   "metadata": {},
   "source": [
    "Skewness in data is a statistical measure that quantifies the asymmetry or departure from symmetry in the distribution of data points in a dataset. In essence, skewness provides information about the shape of the data's distribution, particularly whether it is skewed to the left (negatively skewed), skewed to the right (positively skewed), or approximately symmetrical (symmetric or normally distributed).\n",
    "\n",
    "Here are the key concepts related to skewness in data:"
   ]
  },
  {
   "cell_type": "raw",
   "id": "f408fe9e",
   "metadata": {},
   "source": [
    "Negative Skewness (Left Skew): In a negatively skewed distribution, the tail on the left-hand side (lower values) is longer or fatter than the tail on the right-hand side (higher values). This means that the majority of the data points are concentrated on the right side of the distribution, and there are relatively few lower values. The mean is typically less than the median in a negatively skewed distribution.\n",
    "\n",
    "Example: The distribution of income in a population where most people earn moderate to high incomes, but a few earn extremely low incomes."
   ]
  },
  {
   "cell_type": "raw",
   "id": "6ea1e22d",
   "metadata": {},
   "source": [
    "Positive Skewness (Right Skew): In a positively skewed distribution, the tail on the right-hand side (higher values) is longer or fatter than the left-hand tail. This indicates that the majority of data points are concentrated on the left side of the distribution, and there are relatively few higher values. In a positively skewed distribution, the mean is typically greater than the median.\n",
    "\n",
    "Example: The distribution of test scores in a classroom where most students score relatively high, but a few students score extremely well."
   ]
  },
  {
   "cell_type": "raw",
   "id": "05fc9988",
   "metadata": {},
   "source": [
    "Symmetry: A symmetric distribution is one in which data points are evenly distributed on both sides of the mean. In a perfectly symmetric distribution, the mean, median, and mode are all equal and located at the center of the distribution. The classic example of a symmetric distribution is the normal distribution (bell curve).\n",
    "\n",
    "Example: The distribution of heights in a population where the majority of people cluster around the average height, and there is an equal number of shorter and taller individuals."
   ]
  },
  {
   "cell_type": "raw",
   "id": "2caa92d3",
   "metadata": {},
   "source": [
    "Skewness is a valuable statistic for understanding the shape of data distributions. It can help analysts and researchers identify departures from normality and assess the impact of outliers or extreme values on the distribution. Skewness is commonly calculated using mathematical formulas, and its value indicates the direction and degree of skew in the data. A skewness value of 0 typically suggests a symmetric distribution, while positive or negative values indicate the direction and magnitude of skew."
   ]
  },
  {
   "cell_type": "markdown",
   "id": "42fabc9f",
   "metadata": {},
   "source": [
    "### Q9. If a data is right skewed then what will be the position of median with respect to mean?"
   ]
  },
  {
   "cell_type": "raw",
   "id": "cc51ee7a",
   "metadata": {},
   "source": [
    "If a dataset is right-skewed, the position of the median with respect to the mean will typically be as follows:"
   ]
  },
  {
   "cell_type": "raw",
   "id": "f8f9f027",
   "metadata": {},
   "source": [
    "Mean > Median: In a right-skewed distribution, the tail on the right-hand side (higher values) is longer or extends farther than the left-hand tail (lower values). As a result, the majority of data points are concentrated on the left side of the distribution, and there are relatively few higher values. This causes the mean to be pulled or skewed towards the right, towards the higher values. In such a scenario, the mean will be greater than the median."
   ]
  },
  {
   "cell_type": "raw",
   "id": "97549605",
   "metadata": {},
   "source": [
    "Mean ≠ Median: While the mean is greater than the median in a right-skewed distribution, they may not be equal. The exact difference between the mean and median will depend on the degree of skewness and the presence of extreme values (outliers) in the dataset. The greater the degree of skewness, the larger the difference between the mean and median."
   ]
  },
  {
   "cell_type": "raw",
   "id": "3701f940",
   "metadata": {},
   "source": [
    "In summary, in a right-skewed distribution, the mean is typically greater than the median. This is because the skewness of the distribution is primarily influenced by the presence of relatively high values that pull the mean to the right. The median, being less sensitive to extreme values, tends to be positioned closer to the center of the distribution, reflecting the typical or central value of the dataset."
   ]
  },
  {
   "cell_type": "markdown",
   "id": "9b260807",
   "metadata": {},
   "source": [
    "### Q10. Explain the difference between covariance and correlation. How are these measures used in statistical analysis?"
   ]
  },
  {
   "cell_type": "raw",
   "id": "2dd4bfa3",
   "metadata": {},
   "source": [
    "Covariance and correlation are both measures used in statistics to quantify the relationship between two variables, but they serve different purposes and have different interpretations:"
   ]
  },
  {
   "cell_type": "raw",
   "id": "64939885",
   "metadata": {},
   "source": [
    "Covariance:\n",
    "\n",
    "Definition: Covariance measures the degree to which two variables change together. It calculates how much two random variables vary simultaneously from their respective means.\n",
    "\n",
    "Range: Covariance can take any real value, positive or negative.\n",
    "\n",
    "Interpretation:\n",
    "\n",
    "A positive covariance indicates that when one variable is above its mean, the other tends to be above its mean as well, and vice versa.\n",
    "A negative covariance indicates an inverse relationship: when one variable is above its mean, the other tends to be below its mean.\n",
    "A covariance close to zero suggests that there is little to no linear relationship between the variables."
   ]
  },
  {
   "cell_type": "raw",
   "id": "04d8c6c7",
   "metadata": {},
   "source": [
    "Correlation:\n",
    "\n",
    "Definition: Correlation is a standardized measure that quantifies the strength and direction of the linear relationship between two variables. It indicates how well changes in one variable can predict changes in another.\n",
    "\n",
    "Range: Correlation values range from -1 to 1.\n",
    "\n",
    "r=1 indicates a perfect positive linear relationship.\n",
    "r=−1 indicates a perfect negative linear relationship.\n",
    "r=0 indicates no linear relationship.\n",
    "\n",
    "Interpretation:\n",
    "\n",
    "Positive values of correlation indicate a positive linear relationship, meaning that as one variable increases, the other tends to increase as well.\n",
    "Negative values of correlation indicate a negative linear relationship, meaning that as one variable increases, the other tends to decrease.\n",
    "A correlation of 0 suggests no linear relationship."
   ]
  },
  {
   "cell_type": "raw",
   "id": "d70d5cc7",
   "metadata": {},
   "source": [
    "Uses in Statistical Analysis:"
   ]
  },
  {
   "cell_type": "raw",
   "id": "3575ba17",
   "metadata": {},
   "source": [
    "Covariance: Covariance is primarily used to understand the direction of the relationship between two variables and whether they tend to move together or in opposite directions. However, it is not a standardized measure and can be difficult to interpret on its own."
   ]
  },
  {
   "cell_type": "raw",
   "id": "2d5c4f4c",
   "metadata": {},
   "source": [
    "Correlation: Correlation is a standardized measure that is widely used to assess the strength and direction of the linear relationship between two variables. It is a more robust and interpretable measure than covariance. Correlation is commonly used in fields such as finance, economics, social sciences, and data analysis to analyze and quantify relationships between variables. The most common correlation coefficient is the Pearson correlation coefficient, but other measures like the Spearman rank correlation and Kendall tau rank correlation are used for different types of data."
   ]
  },
  {
   "cell_type": "raw",
   "id": "446be3b4",
   "metadata": {},
   "source": [
    "In summary, while both covariance and correlation provide insights into the relationship between two variables, correlation is more commonly used in statistical analysis due to its standardized scale and ease of interpretation. It is a valuable tool for understanding the strength and direction of linear associations between variables."
   ]
  },
  {
   "cell_type": "markdown",
   "id": "97e9e766",
   "metadata": {},
   "source": [
    "### Q11. What is the formula for calculating the sample mean? Provide an example calculation for a dataset."
   ]
  },
  {
   "cell_type": "code",
   "execution_count": 2,
   "id": "91942d62",
   "metadata": {},
   "outputs": [
    {
     "name": "stdout",
     "output_type": "stream",
     "text": [
      "Sample Mean: 19.5\n"
     ]
    }
   ],
   "source": [
    "# Define your dataset as a list\n",
    "data = [12, 15, 18, 21, 24, 27]\n",
    "\n",
    "# Calculate the sample mean\n",
    "sample_mean = sum(data) / len(data)\n",
    "\n",
    "# Print the result\n",
    "print(\"Sample Mean:\", sample_mean)"
   ]
  },
  {
   "cell_type": "raw",
   "id": "dd50a178",
   "metadata": {},
   "source": [
    "In this code:\n",
    "\n",
    "We define your dataset as a list called data.\n",
    "We calculate the sample mean using the sum() function to add up all the data points and then divide the sum by the number of data points, which is obtained using the len() function.\n",
    "We print the result to display the sample mean."
   ]
  },
  {
   "cell_type": "markdown",
   "id": "c5ac783a",
   "metadata": {},
   "source": [
    "### Q12. For a normal distribution data what is the relationship between its measure of central tendency?"
   ]
  },
  {
   "cell_type": "raw",
   "id": "d15f505d",
   "metadata": {},
   "source": [
    "In a normal distribution, also known as a Gaussian distribution or bell curve, the relationship between its measures of central tendency is as follows:"
   ]
  },
  {
   "cell_type": "raw",
   "id": "13512e34",
   "metadata": {},
   "source": [
    "\n",
    "In a normal distribution, also known as a Gaussian distribution or bell curve, the relationship between its measures of central tendency is as follows:\n",
    "\n",
    "Mean (Average): The mean of a normal distribution is located at the center of the distribution. It is the point of maximum probability density, and it is also the median and mode of the distribution.\n",
    "\n",
    "Median: The median of a normal distribution is also located at the center of the distribution, which is the same as the mean. In a perfectly symmetric normal distribution, the mean and median are equal.\n",
    "\n",
    "Mode: The mode of a normal distribution is also at the center of the distribution, where the peak of the curve occurs. In a normal distribution, there is only one mode, and it is equal to both the mean and median."
   ]
  },
  {
   "cell_type": "markdown",
   "id": "d72bcfa0",
   "metadata": {},
   "source": [
    "### Q13. How is covariance different from correlation?"
   ]
  },
  {
   "cell_type": "raw",
   "id": "fe277b8f",
   "metadata": {},
   "source": [
    " Both covariance and correlation assess the relationship between two variables, correlation is more commonly used because it provides a standardized measure that is easier to interpret and compare across different datasets. Correlation is particularly useful for identifying and quantifying linear associations between variables while being independent of the scale of the variables. Covariance, on the other hand, provides information about the direction of the relationship but lacks the standardized interpretation of correlation."
   ]
  },
  {
   "cell_type": "markdown",
   "id": "a3b43ff9",
   "metadata": {},
   "source": [
    "### Q14. How do outliers affect measures of central tendency and dispersion? Provide an example."
   ]
  },
  {
   "cell_type": "raw",
   "id": "736a41b5",
   "metadata": {},
   "source": [
    "Outliers can have a significant impact on measures of central tendency (mean, median, and mode) and measures of dispersion (range, variance, and standard deviation) in a dataset. Here's how outliers affect these statistical measures and an example:"
   ]
  },
  {
   "cell_type": "raw",
   "id": "f88c26db",
   "metadata": {},
   "source": [
    "Impact on Measures of Central Tendency:"
   ]
  },
  {
   "cell_type": "raw",
   "id": "29c9404d",
   "metadata": {},
   "source": [
    "Mean: Outliers can heavily influence the mean because they can have disproportionately large or small values compared to the rest of the data. A single extreme outlier can pull the mean in its direction.\n",
    "\n",
    "Median: The median is less affected by outliers compared to the mean. It is resistant to extreme values because it only considers the middle data point when the data is sorted. Outliers have less influence on the median.\n",
    "\n",
    "Mode: The mode represents the most frequently occurring value(s) in the dataset. Outliers typically have minimal impact on the mode unless the outlier itself is a repeated value."
   ]
  },
  {
   "cell_type": "raw",
   "id": "b31c1f33",
   "metadata": {},
   "source": [
    "Impact on Measures of Dispersion:"
   ]
  },
  {
   "cell_type": "raw",
   "id": "eabd3bcd",
   "metadata": {},
   "source": [
    "Range: Outliers can significantly affect the range, as they can be the minimum or maximum values in the dataset. The presence of outliers can inflate the range, making it larger than it would be without them.\n",
    "\n",
    "Variance and Standard Deviation: Outliers can have a substantial impact on both variance and standard deviation, especially if they are far from the mean. The squared differences between data points and the mean are used in these calculations, so extreme outliers can lead to larger variances and standard deviations."
   ]
  },
  {
   "cell_type": "raw",
   "id": "847f5045",
   "metadata": {},
   "source": [
    "Example:\n",
    "\n",
    "Consider a dataset of test scores from a class of students:\n",
    "\n",
    "{\n",
    "78,85,88,90,95,98,100,102,105,110,1200}\n",
    "\n",
    "Without the outlier (1200), the data appears to have a central tendency around the 90s, with most values clustered closely. However, the presence of the outlier significantly impacts the measures:"
   ]
  },
  {
   "cell_type": "raw",
   "id": "d70f68b3",
   "metadata": {},
   "source": [
    "Without the outlier (1200), the data appears to have a central tendency around the 90s, with most values clustered closely. However, the presence of the outlier significantly impacts the measures:"
   ]
  },
  {
   "cell_type": "raw",
   "id": "f4d5692f",
   "metadata": {},
   "source": [
    "Mean: With the outlier: \n",
    "190.82\n",
    "Without the outlier: \n",
    "94.82\n",
    "Median: With the outlier: \n",
    "95.5\n",
    "Without the outlier: \n",
    "95\n",
    "Mode: With the outlier: No mode (all values are unique), Without the outlier: No mode (all values are unique)\n",
    "Range: With the outlier: \n",
    "1122\n",
    "Without the outlier: \n",
    "32\n",
    "Variance: With the outlier: \n",
    "137291.46\n",
    "Without the outlier: \n",
    "186.06\n",
    "Standard Deviation: With the outlier: \n",
    "370.47\n",
    "Without the outlier: \n",
    "13.65"
   ]
  },
  {
   "cell_type": "raw",
   "id": "78b51ce8",
   "metadata": {},
   "source": [
    "As you can see, the presence of the outlier (1200) has significantly impacted the mean, range, variance, and standard deviation, making them much larger than they would be without the outlier. The median, which is less affected by outliers, remains relatively stable. In this case, it is clear how one extreme outlier can skew the measures of central tendency and dispersion."
   ]
  },
  {
   "cell_type": "code",
   "execution_count": null,
   "id": "bd367b98",
   "metadata": {},
   "outputs": [],
   "source": []
  }
 ],
 "metadata": {
  "kernelspec": {
   "display_name": "Python 3 (ipykernel)",
   "language": "python",
   "name": "python3"
  },
  "language_info": {
   "codemirror_mode": {
    "name": "ipython",
    "version": 3
   },
   "file_extension": ".py",
   "mimetype": "text/x-python",
   "name": "python",
   "nbconvert_exporter": "python",
   "pygments_lexer": "ipython3",
   "version": "3.11.1"
  }
 },
 "nbformat": 4,
 "nbformat_minor": 5
}
