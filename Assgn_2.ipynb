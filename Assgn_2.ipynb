{
 "cells": [
  {
   "cell_type": "code",
   "execution_count": 1,
   "id": "4da614ef-f4d6-470e-9d7f-a8b7e29ba687",
   "metadata": {},
   "outputs": [],
   "source": [
    "# 1. Write a program to accepet persentage from the user and display the grade according \n",
    "# to the following criteria"
   ]
  },
  {
   "cell_type": "code",
   "execution_count": null,
   "id": "dbb3fc51-41eb-4225-8004-91383533063e",
   "metadata": {},
   "outputs": [],
   "source": [
    "Marks = int(input(\"Enter Marks\"))\n",
    "if Marks > 90:\n",
    "    print( \"Grade A\" )\n",
    "elif Marks >=80 and Marks < 90:\n",
    "    print(\"Grade B\")\n",
    "elif Marks >= 60 and Marks < 80:\n",
    "    print(\"Grade C\")\n",
    "else:\n",
    "    print(\"Grade D\")\n",
    "    "
   ]
  },
  {
   "cell_type": "code",
   "execution_count": null,
   "id": "921ab6c8-2110-459c-89a6-7bbc6d56091c",
   "metadata": {},
   "outputs": [],
   "source": []
  },
  {
   "cell_type": "code",
   "execution_count": 12,
   "id": "505c8dec-4640-430c-a411-1ded3a613752",
   "metadata": {},
   "outputs": [],
   "source": [
    "# 2. Write a program to accepet the cost price of a bike and display the road Tax to be \n",
    "# paid acoording to the following criteria"
   ]
  },
  {
   "cell_type": "code",
   "execution_count": null,
   "id": "919dec8e-e166-47e7-aa28-d8c1d6498e21",
   "metadata": {},
   "outputs": [],
   "source": [
    "Price = int(input(\"Enter Cost Price\"))\n",
    "if Price > 100000:\n",
    "            print(\"Tax 15%\")\n",
    "elif Price > 50000 and Price <= 100000:\n",
    "    print(\"Tax 10%\")\n",
    "else:\n",
    "    print(\"Tax 5%\")\n",
    "    "
   ]
  },
  {
   "cell_type": "code",
   "execution_count": null,
   "id": "fe47879d-3174-45e4-89c6-c86a0d4370d0",
   "metadata": {},
   "outputs": [],
   "source": []
  },
  {
   "cell_type": "code",
   "execution_count": null,
   "id": "2f0fa716-8ef2-453a-adba-d9ab19ddeb03",
   "metadata": {},
   "outputs": [],
   "source": [
    "# 3. Accept any city from the user and display monuments of this city."
   ]
  },
  {
   "cell_type": "code",
   "execution_count": 11,
   "id": "a11925bb-3f65-4559-bc5c-6f99f5125fe5",
   "metadata": {},
   "outputs": [
    {
     "name": "stdin",
     "output_type": "stream",
     "text": [
      "Enter City Name Indore\n"
     ]
    },
    {
     "name": "stdout",
     "output_type": "stream",
     "text": [
      "Enter Valid City Name\n"
     ]
    }
   ],
   "source": [
    "City_name = input(\"Enter City Name\")\n",
    "if City_name == (\"Dehli\"):\n",
    "    print(\"Red Fort\")\n",
    "elif City_name == (\"Agra\"):\n",
    "    print(\"Taj Mahal\")\n",
    "elif City_name == (\"Jaipur\"):\n",
    "    print(\"Jal Mahal\")\n",
    "else:\n",
    "    print(\"Enter Valid City Name\")"
   ]
  },
  {
   "cell_type": "code",
   "execution_count": null,
   "id": "c63678cb-184c-4948-9b5e-f5e160197829",
   "metadata": {},
   "outputs": [],
   "source": []
  },
  {
   "cell_type": "code",
   "execution_count": null,
   "id": "d8831cea-a716-4875-82b1-1ee25e4b40da",
   "metadata": {},
   "outputs": [],
   "source": [
    "# 4. Check how many time a given number can be divided by three before it is less than or equal tp 10?"
   ]
  },
  {
   "cell_type": "code",
   "execution_count": null,
   "id": "9afeffa5-c611-402f-9b63-e96fa4e0cb30",
   "metadata": {},
   "outputs": [],
   "source": [
    "num = int(input(\"Enter Number\"))\n",
    "count = 0\n",
    "while num > 10:\n",
    "    num /= 3\n",
    "    count += 1\n",
    "print(count)"
   ]
  },
  {
   "cell_type": "code",
   "execution_count": null,
   "id": "48d6c3c8-4219-4ca6-8ab0-4437a1f2d5fb",
   "metadata": {},
   "outputs": [],
   "source": []
  },
  {
   "cell_type": "code",
   "execution_count": null,
   "id": "29780e79-89f3-4c0c-9a74-3181c25c1ff4",
   "metadata": {},
   "outputs": [],
   "source": [
    "# 5. Why and when to use while loop in Pyhton give a detailed discription with example"
   ]
  },
  {
   "cell_type": "code",
   "execution_count": null,
   "id": "31c920cf-ba69-4419-bc57-134d8dee4b7a",
   "metadata": {},
   "outputs": [],
   "source": [
    "'''A while loop in Python is used when you want to repeat a set of statements as long as a certain condition \n",
    "is true. The general syntax for a while loop is'''"
   ]
  },
  {
   "cell_type": "code",
   "execution_count": null,
   "id": "a8556ce3-f4e5-49b1-ad48-5472a496e307",
   "metadata": {},
   "outputs": [],
   "source": [
    "while condition:\n",
    "    # body of while loop"
   ]
  },
  {
   "cell_type": "code",
   "execution_count": null,
   "id": "a3980f14-11fb-4400-b8c2-14e420e37ffc",
   "metadata": {},
   "outputs": [],
   "source": [
    "'''The loop will continue to execute as long as the condition is true. Once the condition becomes false, \n",
    "the loop will terminate and the program will continue with any statements that come after the loop.\n",
    "\n",
    "Here are some use cases for while loops in Python:\n",
    "\n",
    "Repeating an action until a specific condition is met: You can use a while loop to perform a specific action\n",
    "repeatedly until a certain condition is met. For example, you can use a while loop to keep asking a user for\n",
    "input until they provide a valid response.\n",
    "\n",
    "Looping through a list of items: While loops can be used to iterate over a list of items. For example, you\n",
    "can use a while loop to iterate over a list of numbers and perform a specific action on each item in the\n",
    "list.\n",
    "\n",
    "Performing an action until a user requests to stop: You can use a while loop to keep performing an action\n",
    "until the user requests to stop. For example, you can use a while loop to keep printing a menu until the\n",
    "user selects the \"Quit\" option.\n",
    "\n",
    "Continuously polling for a change: A while loop can be used to continuously poll for a change in some \n",
    "condition. For example, you can use a while loop to keep checking the status of a network connection until\n",
    "it is established.\n",
    "\n",
    "It's important to ensure that the condition in the while loop eventually becomes false, otherwise the loop\n",
    "will run indefinitely and your program will hang. To avoid this, you should carefully consider the condition\n",
    "you're using in the while loop and ensure that it can be met.'''"
   ]
  },
  {
   "cell_type": "code",
   "execution_count": 4,
   "id": "f027e991-74bc-4e60-a431-5c51bb4c9a72",
   "metadata": {},
   "outputs": [
    {
     "name": "stdout",
     "output_type": "stream",
     "text": [
      "1\n",
      "2\n",
      "3\n",
      "4\n",
      "5\n",
      "6\n",
      "7\n",
      "8\n",
      "9\n",
      "10\n"
     ]
    },
    {
     "data": {
      "text/plain": [
       "'Loop start from 1\\ncondition - Loop continue execute while a is <=10.\\nFor Incriment - a = a + 1'"
      ]
     },
     "execution_count": 4,
     "metadata": {},
     "output_type": "execute_result"
    }
   ],
   "source": [
    "# Example. \n",
    "\n",
    "a = 1\n",
    "while a <= 10:\n",
    "    print(a)\n",
    "    a = a + 1\n",
    "\n",
    "'''Loop start from 1\n",
    "condition - Loop continue execute while a is <=10.\n",
    "For Incriment - a = a + 1'''"
   ]
  },
  {
   "cell_type": "code",
   "execution_count": 1,
   "id": "1c09558e-de16-497d-b41b-653b41c46694",
   "metadata": {},
   "outputs": [],
   "source": [
    "# 6. Use nested while loop to print three different pattern."
   ]
  },
  {
   "cell_type": "code",
   "execution_count": null,
   "id": "01995c00-7e4b-4eb4-ad7e-ed1aa5f4f372",
   "metadata": {},
   "outputs": [],
   "source": [
    "Here are three different patterns you can create using nested while loops in Python:\n"
   ]
  },
  {
   "cell_type": "code",
   "execution_count": 1,
   "id": "53e5275a-2755-4232-bc03-28a7003105d5",
   "metadata": {},
   "outputs": [
    {
     "name": "stdout",
     "output_type": "stream",
     "text": [
      "*\n",
      "**\n",
      "***\n",
      "****\n",
      "*****\n"
     ]
    }
   ],
   "source": [
    "# Pattern 1:\n",
    "\n",
    "i = 1\n",
    "while i <= 5:\n",
    "    j = 1\n",
    "    while j <= i:\n",
    "        print(\"*\", end=\"\")\n",
    "        j += 1\n",
    "    print(\"\")\n",
    "    i += 1"
   ]
  },
  {
   "cell_type": "code",
   "execution_count": 2,
   "id": "7051bd8c-36a0-4e67-aaad-67cb404c08d6",
   "metadata": {},
   "outputs": [
    {
     "name": "stdout",
     "output_type": "stream",
     "text": [
      "*****\n",
      "****\n",
      "***\n",
      "**\n",
      "*\n"
     ]
    }
   ],
   "source": [
    "# Pattern 2:\n",
    "\n",
    "i = 5\n",
    "while i >= 1:\n",
    "    j = 1\n",
    "    while j <= i:\n",
    "        print(\"*\", end=\"\")\n",
    "        j += 1\n",
    "    print(\"\")\n",
    "    i -= 1"
   ]
  },
  {
   "cell_type": "code",
   "execution_count": 3,
   "id": "d3b214d1-83b7-45f6-984d-e270ded3348c",
   "metadata": {},
   "outputs": [
    {
     "name": "stdout",
     "output_type": "stream",
     "text": [
      "    *\n",
      "   **\n",
      "  ***\n",
      " ****\n",
      "*****\n"
     ]
    }
   ],
   "source": [
    "# Pattern 3:\n",
    "\n",
    "i = 5\n",
    "while i >= 1:\n",
    "    j = 1\n",
    "    while j <= 5:\n",
    "        if j < i:\n",
    "            print(\" \", end=\"\")\n",
    "        else:\n",
    "            print(\"*\", end=\"\")\n",
    "        j += 1\n",
    "    print(\"\")\n",
    "    i -= 1"
   ]
  },
  {
   "cell_type": "code",
   "execution_count": null,
   "id": "9a77b6fc-bade-40fd-a2f6-7f0a4a36212f",
   "metadata": {},
   "outputs": [],
   "source": []
  },
  {
   "cell_type": "code",
   "execution_count": null,
   "id": "aab07c31-2098-46b8-b5e5-6a37aeac3aed",
   "metadata": {},
   "outputs": [],
   "source": [
    "# 7. "
   ]
  },
  {
   "cell_type": "code",
   "execution_count": 1,
   "id": "d8f5da04-cf9a-494b-89be-c0c3ecbeee85",
   "metadata": {},
   "outputs": [
    {
     "name": "stdout",
     "output_type": "stream",
     "text": [
      "10\n",
      "9\n",
      "8\n",
      "7\n",
      "6\n",
      "5\n",
      "4\n",
      "3\n",
      "2\n",
      "1\n",
      "0\n"
     ]
    }
   ],
   "source": [
    "i = 10\n",
    "while i >= 0:\n",
    "    print(i)\n",
    "    i -= 1"
   ]
  },
  {
   "cell_type": "code",
   "execution_count": null,
   "id": "bd1b67fa-2ce1-4213-9f84-d9fb9610f138",
   "metadata": {},
   "outputs": [],
   "source": []
  },
  {
   "cell_type": "code",
   "execution_count": 2,
   "id": "e1b234a6-da81-4711-9690-d360c7bc128c",
   "metadata": {},
   "outputs": [],
   "source": [
    "# 8. Reverse a while loop to display a number from 10 to 1."
   ]
  },
  {
   "cell_type": "code",
   "execution_count": 3,
   "id": "acd44837-77a4-48b2-ba40-dfe5f96ddc62",
   "metadata": {},
   "outputs": [
    {
     "name": "stdout",
     "output_type": "stream",
     "text": [
      "1\n",
      "2\n",
      "3\n",
      "4\n",
      "5\n",
      "6\n",
      "7\n",
      "8\n",
      "9\n"
     ]
    }
   ],
   "source": [
    "i = 1\n",
    "while i <10:\n",
    "    print(i)\n",
    "    i += 1"
   ]
  },
  {
   "cell_type": "code",
   "execution_count": null,
   "id": "7bc809bc-d7b5-41f8-a216-8d4491b2436c",
   "metadata": {},
   "outputs": [],
   "source": []
  },
  {
   "cell_type": "code",
   "execution_count": 4,
   "id": "9cf27bb4-d03f-41cc-b09c-0c9056356792",
   "metadata": {},
   "outputs": [],
   "source": []
  },
  {
   "cell_type": "code",
   "execution_count": null,
   "id": "1226f151-a93a-4a4b-8bca-1bb1ac05efbe",
   "metadata": {},
   "outputs": [],
   "source": []
  }
 ],
 "metadata": {
  "kernelspec": {
   "display_name": "Python 3 (ipykernel)",
   "language": "python",
   "name": "python3"
  },
  "language_info": {
   "codemirror_mode": {
    "name": "ipython",
    "version": 3
   },
   "file_extension": ".py",
   "mimetype": "text/x-python",
   "name": "python",
   "nbconvert_exporter": "python",
   "pygments_lexer": "ipython3",
   "version": "3.10.8"
  }
 },
 "nbformat": 4,
 "nbformat_minor": 5
}
