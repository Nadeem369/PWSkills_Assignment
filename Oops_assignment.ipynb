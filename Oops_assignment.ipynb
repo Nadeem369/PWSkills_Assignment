{
 "cells": [
  {
   "cell_type": "markdown",
   "id": "6b99dbf8-9d5e-4e58-8d9b-71754e5ff27b",
   "metadata": {},
   "source": [
    "### Date: 10/02/23\n",
    "### Assignment: Opps Assignment\n"
   ]
  },
  {
   "cell_type": "markdown",
   "id": "d3910cb1-f18f-4aeb-9a86-765b11365dbe",
   "metadata": {},
   "source": [
    "### Answer 1"
   ]
  },
  {
   "cell_type": "raw",
   "id": "075aed3d-a8e1-4dc5-83df-b9816fdf87f2",
   "metadata": {},
   "source": [
    "open(filename = \"\", mode) function is used to open any file\n",
    "\n",
    "The different mode of opening a file in Python.\n",
    "\n",
    "'r'       open for reading (default)\n",
    "'w'       open for writing, truncating the file first\n",
    "'x'       create a new file and open it for writing\n",
    "'a'       open for writing, appending to the end of the file if it exists\n",
    "'b'       binary mode\n",
    "'t'       text mode (default)\n",
    "'+'       open a disk file for updating (reading and writing)\n",
    "'U'       universal newline mode (deprecated)\n"
   ]
  },
  {
   "cell_type": "markdown",
   "id": "0149066d-0f3f-40ac-8183-dfa65aee25a9",
   "metadata": {},
   "source": [
    "### Answer 2"
   ]
  },
  {
   "cell_type": "raw",
   "id": "74c403bf-4154-4f24-8ea0-d6fe4184e279",
   "metadata": {},
   "source": [
    "In Python, the close() function is used to close a file that has been opened with the open() function. It is important to close a file after it has been used, as it releases the resources used by the file and ensures that any data that was in the buffer is written to the file before it is closed.\n",
    "\n",
    "If a file is not closed properly, it can lead to a number of issues, such as:\n",
    "\n",
    "Resource leaks: If a large number of files are left open, it can lead to resource leaks, which can slow down the system.\n",
    "\n",
    "Data corruption: If a file is not closed properly, any data that is still in the buffer may not be written to the file. This can lead to data corruption, as the file may not contain all of the data that was intended to be written to it.\n",
    "\n",
    "Security issues: If a file is not closed properly, it may be possible for other processes or users to access it, which can lead to security issues.\n",
    "\n",
    "To avoid these issues, it is important to always close a file after it has been used. This can be done using the close() function."
   ]
  },
  {
   "cell_type": "markdown",
   "id": "40886ccd-b8ef-41ff-8cd2-1e694286f542",
   "metadata": {},
   "source": [
    "### Answer 3."
   ]
  },
  {
   "cell_type": "raw",
   "id": "9cc39c3c-8b34-458d-8be3-287328cd3387",
   "metadata": {},
   "source": [
    "Here is the required program"
   ]
  },
  {
   "cell_type": "code",
   "execution_count": null,
   "id": "0ccbad4d-21a0-4767-9a01-249404814b85",
   "metadata": {},
   "outputs": [],
   "source": [
    "f = open(\"Assignment.txt\" , 'w')"
   ]
  },
  {
   "cell_type": "code",
   "execution_count": null,
   "id": "dcd63f9e-da49-4d05-b14c-664c505b9d65",
   "metadata": {},
   "outputs": [],
   "source": [
    "f.write(\"I want to become a Data Scientist\")"
   ]
  },
  {
   "cell_type": "code",
   "execution_count": null,
   "id": "d968ffd7-74d3-4362-9968-e3d7e9cc07e6",
   "metadata": {},
   "outputs": [],
   "source": [
    "f.close()"
   ]
  },
  {
   "cell_type": "code",
   "execution_count": null,
   "id": "5a204bd5-32a4-4a1a-a8df-9cdbc7c3c062",
   "metadata": {},
   "outputs": [],
   "source": [
    "f = open(\"Assignment.txt\" , 'r')"
   ]
  },
  {
   "cell_type": "code",
   "execution_count": null,
   "id": "fb5bd10e-5801-4590-8d02-f9da65ea4827",
   "metadata": {},
   "outputs": [],
   "source": [
    "f.read()"
   ]
  },
  {
   "cell_type": "markdown",
   "id": "025c614f-04d0-4f85-a174-588f39eef603",
   "metadata": {},
   "source": [
    "### Answer 4"
   ]
  },
  {
   "cell_type": "raw",
   "id": "6d312541-37a3-4e41-bef5-f2ed9dea7e6c",
   "metadata": {},
   "source": [
    "In Python, there are three main methods for reading data from a file: read(), readline(), and readlines()."
   ]
  },
  {
   "cell_type": "raw",
   "id": "8826e8d7-0202-498d-88d6-8fb6d565ec58",
   "metadata": {},
   "source": [
    "read(): This method is used to read the entire contents of a file into a string. It takes an optional argument that specifies the number of characters to read. If no argument is provided, the entire file is read."
   ]
  },
  {
   "cell_type": "code",
   "execution_count": null,
   "id": "30d59ff5-03a3-4bd7-a4c0-33ffa26193f6",
   "metadata": {},
   "outputs": [],
   "source": [
    "f = open(\"Assignment.txt\" , 'r')\n",
    "f.read()"
   ]
  },
  {
   "cell_type": "raw",
   "id": "79d677ab-d163-4d09-b7f4-2ef4415ead7b",
   "metadata": {},
   "source": [
    "readline(): This method is used to read a single line of a file. Each time this method is called, the next line of the file is read. When the end of the file is reached, an empty string is returned."
   ]
  },
  {
   "cell_type": "code",
   "execution_count": 46,
   "id": "65e49e07-a8c1-42ac-bdc4-0dafa648b694",
   "metadata": {},
   "outputs": [
    {
     "name": "stdout",
     "output_type": "stream",
     "text": [
      "I want to become a Data Scientist\n",
      "\n"
     ]
    }
   ],
   "source": [
    "f = open(\"Assignment.txt\" , 'r')\n",
    "\n",
    "line1 = f.readline()\n",
    "line2 = f.readline()\n",
    "\n",
    "print(line1)\n",
    "print(line2)\n",
    "      "
   ]
  },
  {
   "cell_type": "raw",
   "id": "b294e352-0fd4-4df8-85ee-2b102a8880cd",
   "metadata": {},
   "source": [
    "readlines(): This method is used to read all of the lines of a file into a list of strings. Each string in the list represents a single line of the file."
   ]
  },
  {
   "cell_type": "code",
   "execution_count": null,
   "id": "54d37652-646c-49b5-9f8f-f42b1e4ab3f9",
   "metadata": {},
   "outputs": [],
   "source": [
    "f = open(\"Assignment.txt\" , 'r')\n",
    "\n",
    "line1 = f.readlines()\n",
    "line2 = f.readlines()\n",
    "\n",
    "print(line1)\n",
    "print(line2)\n",
    "f.close()"
   ]
  },
  {
   "cell_type": "markdown",
   "id": "ccf78202-7d0d-4f30-b670-5e87594e14bd",
   "metadata": {},
   "source": [
    "### Answer 5."
   ]
  },
  {
   "cell_type": "raw",
   "id": "21a0dc11-6bac-4662-a403-dd399a0a0989",
   "metadata": {},
   "source": [
    "A function or class that supports the with statement is known as a context manager. A context manager allows you to open and close resources right when you want to. For example, the open () function is a context manager. When you call the open () function using the with statement, the file closes automatically after you’ve processed the file.\n",
    "\n",
    "\n",
    "The advantage of using the with statement with open() is that it simplifies the syntax required to work with files, and it ensures that the file is properly closed even if an exception is raised while working with the file. This is important because leaving a file open can lead to memory leaks and data corruption, and can cause problems for other processes that may need to access the same file."
   ]
  },
  {
   "cell_type": "markdown",
   "id": "864583df-efee-4b6c-902a-ed1edccb5c6d",
   "metadata": {},
   "source": [
    "### Answer 6."
   ]
  },
  {
   "cell_type": "raw",
   "id": "b7b72f50-e762-4197-8c59-3050bd04ddc5",
   "metadata": {},
   "source": [
    "In Python, the write() and writelines() functions are used to write data to a file. Here is an explanation of each function with a Python code example:\n",
    "\n",
    "write(): This function is used to write a single string to a file. If the file does not exist, it will be created. If the file already exists, the data in the file will be overwritten. This function returns the number of characters written to the file."
   ]
  },
  {
   "cell_type": "code",
   "execution_count": 53,
   "id": "96b1b7fb-004b-470d-9b8a-db08401cd6f3",
   "metadata": {},
   "outputs": [],
   "source": [
    "f = open('Assignment.txt', 'w')\n",
    "f.write(\" want to become a Data Scientist\\n\")\n",
    "f.close()"
   ]
  },
  {
   "cell_type": "raw",
   "id": "4cad46a7-135b-43b3-8a5b-f26f64516032",
   "metadata": {},
   "source": [
    "writelines(): This function is used to write a list of strings to a file. If the file does not exist, it will be created. If the file already exists, the data in the file will be overwritten. This function does not add any characters between the strings in the list."
   ]
  },
  {
   "cell_type": "code",
   "execution_count": 57,
   "id": "5e5234db-d757-4af0-96e2-53aa87c96bb9",
   "metadata": {},
   "outputs": [],
   "source": [
    "# Open the file for writing\n",
    "file = open('example.txt', 'w')\n",
    "\n",
    "# Write a list of strings to the file\n",
    "lines = ['Line 1\\n', 'Line 2\\n', 'Line 3\\n']\n",
    "file.writelines(lines)\n",
    "\n",
    "# Close the file\n",
    "file.close()"
   ]
  },
  {
   "cell_type": "code",
   "execution_count": null,
   "id": "5979ef0d-91e5-467e-bbd6-ced467602cdb",
   "metadata": {},
   "outputs": [],
   "source": []
  }
 ],
 "metadata": {
  "kernelspec": {
   "display_name": "Python 3 (ipykernel)",
   "language": "python",
   "name": "python3"
  },
  "language_info": {
   "codemirror_mode": {
    "name": "ipython",
    "version": 3
   },
   "file_extension": ".py",
   "mimetype": "text/x-python",
   "name": "python",
   "nbconvert_exporter": "python",
   "pygments_lexer": "ipython3",
   "version": "3.10.8"
  }
 },
 "nbformat": 4,
 "nbformat_minor": 5
}
