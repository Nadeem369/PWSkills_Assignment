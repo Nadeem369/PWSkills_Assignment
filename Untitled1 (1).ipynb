{
 "cells": [
  {
   "cell_type": "markdown",
   "id": "6dd2e27c-224f-4755-a098-f0438b5d3ef0",
   "metadata": {},
   "source": [
    "# Assignment "
   ]
  },
  {
   "cell_type": "markdown",
   "id": "9b2f9545-3970-41a0-ba6e-e53b0edddcf4",
   "metadata": {},
   "source": [
    "# Q1.\n",
    "Which keyword is used to create a function? Create a function to return a list of odd numbers in the\n",
    "range of 1 to 25."
   ]
  },
  {
   "cell_type": "markdown",
   "id": "2dd22dc1-ca0d-485f-8fe7-bddcf5d7c1cc",
   "metadata": {},
   "source": [
    "# Answer.\n",
    "The keyword \"def\" is used to create a function in Python.\n",
    "\n",
    "Here is an example of a function that returns a list of odd numbers in the range of 1 to 25:"
   ]
  },
  {
   "cell_type": "code",
   "execution_count": null,
   "id": "5dcebd3d-32a8-4621-ad2e-9c86290371ad",
   "metadata": {},
   "outputs": [],
   "source": []
  },
  {
   "cell_type": "code",
   "execution_count": 1,
   "id": "5a3b42f9-1abe-4251-83ad-dd5fccfac123",
   "metadata": {},
   "outputs": [
    {
     "name": "stdout",
     "output_type": "stream",
     "text": [
      "[1, 3, 5, 7, 9, 11, 13, 15, 17, 19, 21, 23, 25]\n"
     ]
    }
   ],
   "source": [
    "def odd_numbers(limit):\n",
    "    odd_num_list = []\n",
    "    for i in range(1, limit+1):\n",
    "        if i % 2 != 0:\n",
    "            (odd_num_list.append(i))\n",
    "    return odd_num_list\n",
    "\n",
    "print(odd_numbers(25))"
   ]
  },
  {
   "cell_type": "markdown",
   "id": "e555b4f6-4848-4a9d-8d6c-ea49ca54cb4b",
   "metadata": {},
   "source": []
  },
  {
   "cell_type": "markdown",
   "id": "8bd0461d-cd78-4380-b271-43cca40299bd",
   "metadata": {},
   "source": [
    "# Q2.\n",
    "Why *args and **kwargs is used in some functions? Create a function each for *args and **kwargs\n",
    "to demonstrate their use."
   ]
  },
  {
   "cell_type": "markdown",
   "id": "2e65e131-2c1e-4f90-88a1-722caee48005",
   "metadata": {},
   "source": [
    "# Answer.\n",
    "*args and **kwargs are used in functions to allow them to accept a variable number of arguments.\n",
    "\n",
    "*args is used to pass a non-keyworded, variable length argument list to a function. *args allows a function to take an arbitrary number of positional arguments, which are stored in a tuple.\n",
    "\n",
    "Here is an example of a function that uses *args:"
   ]
  },
  {
   "cell_type": "code",
   "execution_count": 2,
   "id": "cc2a8eb0-f773-495e-ab5b-83250b7c9051",
   "metadata": {},
   "outputs": [
    {
     "name": "stdout",
     "output_type": "stream",
     "text": [
      "15\n"
     ]
    }
   ],
   "source": [
    "def add_numbers(*args):\n",
    "    total = 0\n",
    "    for i in args:\n",
    "        total += i\n",
    "    return total\n",
    "\n",
    "print(add_numbers(1, 2, 3, 4, 5))"
   ]
  },
  {
   "cell_type": "markdown",
   "id": "4a650c6d-b59e-4652-bbec-d14ca0c80f1d",
   "metadata": {},
   "source": [
    "In this example, the add_numbers function takes an arbitrary number of keyword arguments and stores them in the kwargs dictionary. The for loop then adds each value to the total variable, which is returned as the result.\n",
    "\n",
    "It's worth noting that you can use both *args and **kwargs in the same function, as long as you follow the convention of putting *args first, followed by **kwargs."
   ]
  },
  {
   "cell_type": "markdown",
   "id": "f143aadf-1045-48e1-958f-5fa42099e6f2",
   "metadata": {},
   "source": [
    "# Q3.\n",
    "What is an iterator in python? Name the method used to initialise the iterator object and the method\n",
    "used for iteration. Use these methods to print the first five elements of the given list [2, 4, 6, 8, 10, 12, 14,\n",
    "16, 18, 20]."
   ]
  },
  {
   "cell_type": "markdown",
   "id": "0a7a8cb8-8428-430a-bf53-f9b71a7a5ed0",
   "metadata": {},
   "source": [
    "# Answer\n",
    "In Python, an iterator is an object that can be iterated (looped) upon. An object which will return data, one element at a time when next() is called on it.\n",
    "\n",
    "In Python, an iterator can be created from a list, tuple, set, or dictionary, among other things, using the iter() method. The next() method is used to iterate through the elements of the iterator.\n",
    "\n",
    "Here is an example that demonstrates how to use iter() and next() to print the first five elements of the list [2, 4, 6, 8, 10, 12, 14, 16, 18, 20]:"
   ]
  },
  {
   "cell_type": "code",
   "execution_count": 3,
   "id": "800ae193-d2eb-4ed3-b1ea-a1b40a07e457",
   "metadata": {},
   "outputs": [
    {
     "name": "stdout",
     "output_type": "stream",
     "text": [
      "2\n",
      "4\n",
      "6\n",
      "8\n",
      "10\n"
     ]
    }
   ],
   "source": [
    "numbers = [2, 4, 6, 8, 10, 12, 14, 16, 18, 20]\n",
    "\n",
    "# Create an iterator object\n",
    "numbers_iterator = iter(numbers)\n",
    "\n",
    "# Use next() to iterate and print the first 5 elements\n",
    "for i in range(5):\n",
    "    print(next(numbers_iterator))"
   ]
  },
  {
   "cell_type": "markdown",
   "id": "3058af19-72ba-4e12-b624-7b71116a308a",
   "metadata": {},
   "source": [
    "# Q4.\n",
    "What is a generator function in python? Why yield keyword is used? Give an example of a generator\n",
    "function."
   ]
  },
  {
   "cell_type": "markdown",
   "id": "0140106e-dd1f-48ff-91ba-a5a220d3aa82",
   "metadata": {},
   "source": [
    "# Answer.\n",
    "A generator function is a special type of function in Python that returns a generator object. A generator object is an iterator that generates values one at a time as you iterate over it.\n",
    "\n",
    "The yield keyword is used in a generator function to return a value and pause the function's execution. The function's state is saved, and the function resumes from where it left off the next time it is called. The function continues to execute until a StopIteration exception is raised or the function terminates normally.\n",
    "\n",
    "The main advantage of using a generator function is that it allows you to generate values one at a time, which can be much more memory-efficient than generating all the values at once and storing them in a list, for example.\n",
    "\n",
    "Here is an example of a generator function that generates the Fibonacci sequence:"
   ]
  },
  {
   "cell_type": "code",
   "execution_count": 4,
   "id": "12c751e2-6f2e-4c16-8852-bf0594c5c3c6",
   "metadata": {},
   "outputs": [
    {
     "name": "stdout",
     "output_type": "stream",
     "text": [
      "0\n",
      "1\n",
      "1\n",
      "2\n",
      "3\n",
      "5\n",
      "8\n",
      "13\n",
      "21\n",
      "34\n",
      "55\n",
      "89\n"
     ]
    }
   ],
   "source": [
    "def fibonacci_sequence(limit):\n",
    "    a, b = 0, 1\n",
    "    while a < limit:\n",
    "        yield a\n",
    "        a, b = b, a + b\n",
    "\n",
    "for num in fibonacci_sequence(100):\n",
    "    print(num)"
   ]
  },
  {
   "cell_type": "markdown",
   "id": "21d68e15-fbe9-4cb7-90c1-3c64039bb1e8",
   "metadata": {},
   "source": [
    "# Q5. \n",
    "Create a generator function for prime numbers less than 1000. Use the next() method to print the\n",
    "first 20 prime numbers."
   ]
  },
  {
   "cell_type": "markdown",
   "id": "36b39368-a029-44d1-b317-aaaa51e404e7",
   "metadata": {},
   "source": [
    "# Ans. \n",
    "Here's an implementation of a generator function for generating prime numbers less than 1000:"
   ]
  },
  {
   "cell_type": "code",
   "execution_count": null,
   "id": "a8381917-0d59-4c78-975b-00cef1cfd717",
   "metadata": {},
   "outputs": [],
   "source": [
    "def prime_numbers(limit):\n",
    "    primes = []\n",
    "    for num in range(2, limit):\n",
    "        for prime in primes:\n",
    "            if num % prime == 0:\n",
    "                break\n",
    "        else:\n",
    "            primes.append(num)\n",
    "            yield num\n",
    "\n",
    "prime_gen = prime_numbers(1000)\n",
    "\n",
    "# Use next() to print the first 20 prime numbers\n",
    "for i in range(20):\n",
    "    print(next(prime_gen))"
   ]
  },
  {
   "cell_type": "markdown",
   "id": "3a2aa68e-0427-4567-ae5e-b6dc4592c114",
   "metadata": {},
   "source": [
    "# Q6.\n",
    "Write a python program to print the first 10 Fibonacci numbers using a while loop."
   ]
  },
  {
   "cell_type": "markdown",
   "id": "7bebb93c-f3b1-4878-b4d0-85aa8a35708c",
   "metadata": {},
   "source": [
    "# Answer.\n",
    "Here's a Python program that prints the first 10 Fibonacci numbers using a while loop:"
   ]
  },
  {
   "cell_type": "code",
   "execution_count": 7,
   "id": "85efe940-882c-410f-92ca-23b148004724",
   "metadata": {},
   "outputs": [
    {
     "name": "stdout",
     "output_type": "stream",
     "text": [
      "0\n",
      "1\n",
      "1\n",
      "2\n",
      "3\n",
      "5\n",
      "8\n",
      "13\n",
      "21\n",
      "34\n"
     ]
    }
   ],
   "source": [
    "a, b = 0, 1\n",
    "count = 0\n",
    "\n",
    "while count < 10:\n",
    "    print(a)\n",
    "    a, b = b, a + b\n",
    "    count += 1"
   ]
  },
  {
   "cell_type": "markdown",
   "id": "69375b5d-bfc4-4045-940f-8f196c7a1907",
   "metadata": {},
   "source": [
    "# Q7.\n",
    "Write a List Comprehension to iterate through the given string: ‘pwskills’.\n",
    "Expected output: ['p', 'w', 's', 'k', 'i', 'l', 'l', 's']"
   ]
  },
  {
   "cell_type": "markdown",
   "id": "f2b9d3eb-2a57-4ade-b190-5c519414ebe5",
   "metadata": {},
   "source": [
    "# Answer.\n",
    "Here's a list comprehension that iterates through the given string 'pwskills':"
   ]
  },
  {
   "cell_type": "code",
   "execution_count": 8,
   "id": "720506f1-c181-4a55-a131-6725cab9d7d1",
   "metadata": {},
   "outputs": [
    {
     "name": "stdout",
     "output_type": "stream",
     "text": [
      "['p', 'w', 's', 'k', 'i', 'l', 'l', 's']\n"
     ]
    }
   ],
   "source": [
    "string = 'pwskills'\n",
    "result = [char for char in string]\n",
    "print(result)"
   ]
  },
  {
   "cell_type": "markdown",
   "id": "a8b84958-f5d2-479a-a076-ff26fd6f0131",
   "metadata": {},
   "source": [
    "# Q8. \n",
    "Write a python program to check whether a given number is Palindrome or not using a while loop."
   ]
  },
  {
   "cell_type": "markdown",
   "id": "06a3b49e-2444-4263-9b06-40dca2d2c71e",
   "metadata": {},
   "source": [
    "# Answer.\n",
    "Here's a Python program that checks if a given number is a palindrome using a while loop:"
   ]
  },
  {
   "cell_type": "code",
   "execution_count": 10,
   "id": "4afbd2b9-c14f-4861-a689-200186a166f3",
   "metadata": {},
   "outputs": [
    {
     "name": "stdin",
     "output_type": "stream",
     "text": [
      "Enter a number:  22\n"
     ]
    },
    {
     "name": "stdout",
     "output_type": "stream",
     "text": [
      "22 is a palindrome.\n"
     ]
    }
   ],
   "source": [
    "def is_palindrome(number):\n",
    "    original_number = number\n",
    "    reverse = 0\n",
    "    while number > 0:\n",
    "        last_digit = number % 10\n",
    "        reverse = (reverse * 10) + last_digit\n",
    "        number = number // 10\n",
    "    return original_number == reverse\n",
    "\n",
    "number = int(input(\"Enter a number: \"))\n",
    "if is_palindrome(number):\n",
    "    print(f\"{number} is a palindrome.\")\n",
    "else:\n",
    "    print(f\"{number} is not a palindrome.\")"
   ]
  },
  {
   "cell_type": "markdown",
   "id": "3e970175-13bb-4b32-9f2d-3d6d7f58dc31",
   "metadata": {},
   "source": [
    "# Q9.\n",
    "Write a code to print odd numbers from 1 to 100 using list comprehension.\n",
    "Note: Use a list comprehension to create a list from 1 to 100 and use another List comprehension to filter\n",
    "out odd numbers."
   ]
  },
  {
   "cell_type": "markdown",
   "id": "c9a7c78c-5edb-4e67-ae38-cb966a08a6a5",
   "metadata": {},
   "source": [
    "# Answer.\n",
    "Here's a code to print odd numbers from 1 to 100 using list comprehensions:"
   ]
  },
  {
   "cell_type": "code",
   "execution_count": null,
   "id": "1c302577-5ff9-4d51-9e6a-ef480c4072e3",
   "metadata": {},
   "outputs": [
    {
     "name": "stdout",
     "output_type": "stream",
     "text": [
      "[1, 3, 5, 7, 9, 11, 13, 15, 17, 19, 21, 23, 25, 27, 29, 31, 33, 35, 37, 39, 41, 43, 45, 47, 49, 51, 53, 55, 57, 59, 61, 63, 65, 67, 69, 71, 73, 75, 77, 79, 81, 83, 85, 87, 89, 91, 93, 95, 97, 99]\n"
     ]
    }
   ],
   "source": [
    "numbers = [x for x in range(1, 101)]\n",
    "odd_numbers = [x for x in numbers if x % 2 != 0]\n",
    "print(odd_numbers)"
   ]
  },
  {
   "cell_type": "code",
   "execution_count": null,
   "id": "1a5e2054-64cc-456d-871a-a7f8830a696c",
   "metadata": {},
   "outputs": [],
   "source": []
  }
 ],
 "metadata": {
  "kernelspec": {
   "display_name": "Python 3 (ipykernel)",
   "language": "python",
   "name": "python3"
  },
  "language_info": {
   "codemirror_mode": {
    "name": "ipython",
    "version": 3
   },
   "file_extension": ".py",
   "mimetype": "text/x-python",
   "name": "python",
   "nbconvert_exporter": "python",
   "pygments_lexer": "ipython3",
   "version": "3.10.8"
  }
 },
 "nbformat": 4,
 "nbformat_minor": 5
}
