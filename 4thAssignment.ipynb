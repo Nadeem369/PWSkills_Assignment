{
 "cells": [
  {
   "cell_type": "markdown",
   "id": "ae3a72ef-c28e-4c19-bad3-3089edf840d0",
   "metadata": {},
   "source": [
    "# Assignment "
   ]
  },
  {
   "cell_type": "markdown",
   "id": "7446fa82-b20d-4bf7-94f4-45bb30845ca8",
   "metadata": {},
   "source": [
    "# Data Science Master Class"
   ]
  },
  {
   "cell_type": "markdown",
   "id": "de44f97b-5396-457b-88fa-a8ea3b3d2294",
   "metadata": {},
   "source": [
    "#Q1. Explain Class and Object with respect to Object-Oriented Programming. Give a suitable example."
   ]
  },
  {
   "cell_type": "raw",
   "id": "fa7a5261-b738-45cd-afc9-df99408d32da",
   "metadata": {},
   "source": [
    "# Class and Object are two important concepts in Object-Oriented Programming (OOP).\n",
    "\n",
    "Class: A class is a blueprint or a prototype that defines the variables and methods              common to all objects of a particular type. It is a template for creating objects,        and acts as a blue print for objects.\n",
    "\n",
    "Object: An object is an instance of a class. It is a real-world entity that has state and         behavior. An object is an individual unit of a class, and it can be manipulated           and interacted with through the methods defined in the class.\n",
    "\n",
    "Example: Consider the scenario of a dog. A dog has certain characteristics (color, breed, name, etc.) and behavior (barking, wagging tail, etc.). This can be represented in OOP using a class called \"Dog\". The class defines the variables (color, breed, name) and methods (bark, wag_tail) that are common to all dogs. An object of the class \"Dog\" can then be created for each individual dog, such as \"my_dog\" or \"your_dog\". These objects will have their own unique values for the variables and can use the methods defined in the class.\n",
    "\n",
    "In short, a class defines the properties and behaviors of an object, and an object is an instance of a class."
   ]
  },
  {
   "cell_type": "code",
   "execution_count": null,
   "id": "53e067b4-e761-43e1-8bfc-ab5586dd3d46",
   "metadata": {},
   "outputs": [],
   "source": []
  },
  {
   "cell_type": "markdown",
   "id": "24dff402-a5df-4809-970d-fd8650c57f2d",
   "metadata": {},
   "source": [
    "#Q2. Name the four pillars of OOPs."
   ]
  },
  {
   "cell_type": "markdown",
   "id": "e63fa3a3-3048-4a1d-a62a-20615684b897",
   "metadata": {},
   "source": [
    "The four pillars of Object-Oriented Programming (OOP) are:\n",
    "\n",
    "Abstraction: Abstraction is the process of hiding the implementation details and showing              only the necessary information to the user. This allows the user to focus on              what the object does rather than how it does it.\n",
    "\n",
    "Encapsulation: Encapsulation is the mechanism of wrapping the data (variables) and code                  that operates on the data (methods) within a single unit, or object. It                  protects the data from outside interference and misuse, and it is one of                  the main concepts behind the idea of \"data hiding\".\n",
    "\n",
    "Inheritance: Inheritance is a mechanism that allows a new class to inherit the properties              and behaviors of an existing class. The new class is called a derived class,              or child class, and the existing class is called the base class, or parent                class. This mechanism provides a way to reuse code, reduce complexity and                make it easier to create and maintain a large software system.\n",
    "\n",
    "Polymorphism: Polymorphism is the ability of an object to take on many forms. In other                 words, an object can be dynamically cast to any of its related classes                   during runtime, and it can respond to the same method call in different                   ways, depending on the context. This enables an object to perform a single               task in different ways, making the code more flexible and efficient.\n",
    "\n",
    "These four pillars form the foundation of OOP and provide the basic building blocks for creating complex, real-world applications."
   ]
  },
  {
   "cell_type": "code",
   "execution_count": null,
   "id": "3a129691-2139-4626-b772-a2fe72ea49f5",
   "metadata": {},
   "outputs": [],
   "source": []
  },
  {
   "cell_type": "markdown",
   "id": "424fb7f7-be00-4511-b679-5deb0d98086a",
   "metadata": {},
   "source": [
    "Q3. Explain why the __init__() function is used. Give a suitable example."
   ]
  },
  {
   "cell_type": "markdown",
   "id": "2befdab2-5e89-42be-ac10-012b04356209",
   "metadata": {},
   "source": [
    "The __init__ function, also known as the constructor, is used in Python to initialize objects when they are created. It is called automatically when an object of the class is created, and it allows the object to be initialized with specific data, such as instance variables or attributes.\n",
    "\n",
    "In other words, the __init__ function is used to set up the initial state of an object when it is created. It is a special method in Python classes and is defined using the double underscore syntax, __init__.\n",
    "\n",
    "Here's a simple example to illustrate the use of the __init__ function:"
   ]
  },
  {
   "cell_type": "code",
   "execution_count": 1,
   "id": "17ca9888-efa1-4de5-b26b-7f2601d4fc1d",
   "metadata": {},
   "outputs": [
    {
     "name": "stdout",
     "output_type": "stream",
     "text": [
      "Labrador\n",
      "Buddy\n",
      "Buddy barks\n"
     ]
    }
   ],
   "source": [
    "class Dog:\n",
    "    def __init__(self, breed, name):\n",
    "        self.breed = breed\n",
    "        self.name = name\n",
    "        \n",
    "    def bark(self):\n",
    "        print(f\"{self.name} barks\")\n",
    "        \n",
    "dog = Dog(\"Labrador\", \"Buddy\")\n",
    "print(dog.breed)  # Output: Labrador\n",
    "print(dog.name)   # Output: Buddy\n",
    "dog.bark()        # Output: Buddy barks\n",
    "\n"
   ]
  },
  {
   "cell_type": "markdown",
   "id": "6ff19198-05bd-4dbe-9357-af7e3d9543a3",
   "metadata": {},
   "source": [
    "In this example, the __init__ function accepts two arguments breed and name, which are used to initialize the breed and name attributes of the object. These attributes are then accessible through the object, as seen in the print statements.\n",
    "\n",
    "The __init__ function is called automatically when an object of the class is created, so we don't need to call it explicitly. This makes it easy to initialize objects with specific data when they are created, which is a fundamental concept in OOP.\n"
   ]
  },
  {
   "cell_type": "code",
   "execution_count": null,
   "id": "8e697f57-eacf-421c-9b9f-fa743b2207bc",
   "metadata": {},
   "outputs": [],
   "source": []
  },
  {
   "cell_type": "markdown",
   "id": "563f7fdc-3885-463c-824e-0efed5675550",
   "metadata": {},
   "source": [
    "Q4. Why self is used in OOPs?"
   ]
  },
  {
   "cell_type": "markdown",
   "id": "32cb717e-1645-47e5-a40a-1676d31b7e78",
   "metadata": {},
   "source": [
    "(self) is used in Object-Oriented Programming (OOP) in Python to refer to the instance of the class that is being operated on. It is a reference to the instance of the object, and it is automatically passed as the first argument to all instance methods defined in a class.\n",
    "\n",
    "In other words, self is used to refer to the instance of the object that is calling the method, and it provides a way to access the instance variables and methods of the object.\n",
    "\n",
    "Here's a simple example to illustrate the use of self:"
   ]
  },
  {
   "cell_type": "code",
   "execution_count": 2,
   "id": "9ac756db-5b31-4344-903a-0d19ce2dc6ca",
   "metadata": {},
   "outputs": [
    {
     "name": "stdout",
     "output_type": "stream",
     "text": [
      "Buddy barks\n"
     ]
    }
   ],
   "source": [
    "class Dog:\n",
    "    def __init__(self, breed, name):\n",
    "        self.breed = breed\n",
    "        self.name = name\n",
    "        \n",
    "    def bark(self):\n",
    "        print(f\"{self.name} barks\")\n",
    "        \n",
    "dog = Dog(\"Labrador\", \"Buddy\")\n",
    "dog.bark()        # Output: Buddy barks"
   ]
  },
  {
   "cell_type": "markdown",
   "id": "183c0fb8-b152-4f28-9885-8f4117002fa7",
   "metadata": {},
   "source": [
    "In this example, the bark method is defined with a self parameter. When the method is called on an object, such as dog.bark(), self refers to the dog object. This allows the method to access and operate on the instance variables breed and name of the dog object.\n",
    "\n",
    "self is a convention in Python and is used in all instance methods of a class. It provides a way for methods to access and modify the instance variables and state of the object, and it is an important aspect of OOP in Python."
   ]
  },
  {
   "cell_type": "code",
   "execution_count": null,
   "id": "8985abd3-fa55-4106-9601-a42eb75f5631",
   "metadata": {},
   "outputs": [],
   "source": []
  },
  {
   "cell_type": "markdown",
   "id": "40ab943c-411e-4861-8d31-18a8f33a8d22",
   "metadata": {},
   "source": [
    "Q5. What is inheritance? Give an example for each type of inheritance."
   ]
  },
  {
   "cell_type": "markdown",
   "id": "90d40925-ad66-46fc-8999-0ea7a8403a58",
   "metadata": {},
   "source": [
    "Inheritance is a mechanism in Object-Oriented Programming (OOP) that allows a new class to inherit the properties and behaviors of an existing class. The new class is called the derived class or child class, and the existing class is called the base class or parent class. Inheritance provides a way to reuse code, reduce complexity, and make it easier to create and maintain a large software system.\n",
    "\n",
    "There are several types of inheritance in OOP, including:\n",
    "\n",
    "Single Inheritance: Single Inheritance is a mechanism where a derived class inherits from a single base class. In other words, a child class inherits the properties and behaviors of a single parent class"
   ]
  },
  {
   "cell_type": "code",
   "execution_count": 3,
   "id": "b71d2b88-5e1a-41ab-9d95-43d9b7c3c875",
   "metadata": {},
   "outputs": [
    {
     "name": "stdout",
     "output_type": "stream",
     "text": [
      "Bark\n"
     ]
    }
   ],
   "source": [
    "class Animal:\n",
    "    def __init__(self, name):\n",
    "        self.name = name\n",
    "        \n",
    "    def make_sound(self):\n",
    "        print(\"Animal Sound\")\n",
    "        \n",
    "class Dog(Animal):\n",
    "    def make_sound(self):\n",
    "        print(\"Bark\")\n",
    "        \n",
    "dog = Dog(\"Buddy\")\n",
    "dog.make_sound()      # Output: Bark"
   ]
  },
  {
   "cell_type": "markdown",
   "id": "8a0f4f40-bfa8-45f8-854d-30f9898f1c4b",
   "metadata": {},
   "source": [
    "In this example, the Dog class inherits from the Animal class and thus has access to the name attribute and the make_sound method. The Dog class can also override the make_sound method to provide its own implementation."
   ]
  },
  {
   "cell_type": "markdown",
   "id": "7d7337b3-d9cf-44f1-9695-13d89d0e4365",
   "metadata": {},
   "source": [
    "2.Multi-level Inheritance: Multi-level Inheritance is a mechanism where a derived class inherits from a base class, which in turn inherits from another base class. In other words, a child class inherits the properties and behaviors of a parent class, which in turn inherits the properties and behaviors of a grandparent class."
   ]
  },
  {
   "cell_type": "code",
   "execution_count": 4,
   "id": "63023456-e436-452a-8478-ec4ef374cc40",
   "metadata": {},
   "outputs": [
    {
     "name": "stdout",
     "output_type": "stream",
     "text": [
      "Buddy\n",
      "Domestic\n",
      "Bark\n"
     ]
    }
   ],
   "source": [
    "class Animal:\n",
    "    def __init__(self, name):\n",
    "        self.name = name\n",
    "        \n",
    "    def make_sound(self):\n",
    "        print(\"Animal Sound\")\n",
    "        \n",
    "class Mammal(Animal):\n",
    "    def __init__(self, name, type):\n",
    "        Animal.__init__(self, name)\n",
    "        self.type = type\n",
    "        \n",
    "class Dog(Mammal):\n",
    "    def make_sound(self):\n",
    "        print(\"Bark\")\n",
    "        \n",
    "dog = Dog(\"Buddy\", \"Domestic\")\n",
    "print(dog.name)       # Output: Buddy\n",
    "print(dog.type)       # Output: Domestic\n",
    "dog.make_sound()      # Output: Bark"
   ]
  },
  {
   "cell_type": "markdown",
   "id": "58b6bf8d-8b75-4cd9-ab08-0427e13724bd",
   "metadata": {},
   "source": [
    "In this example, the Dog class inherits from the Mammal class, which in turn inherits from the Animal class. The Dog class has access to the name and type attributes and the make_sound method."
   ]
  },
  {
   "cell_type": "markdown",
   "id": "52a180c0-a052-4cf4-8e74-873dce96b3a2",
   "metadata": {},
   "source": [
    "3.In this example, the Dog class inherits from the Mammal class, which in turn inherits from the Animal class. The Dog class has access to the name and type attributes and the make_sound method."
   ]
  },
  {
   "cell_type": "code",
   "execution_count": null,
   "id": "d525c7ee-ddcd-4972-9054-f9beac3e68f5",
   "metadata": {},
   "outputs": [],
   "source": [
    "class Animal:\n",
    "    def __init__(self, name):\n",
    "        self.name = name\n",
    "        \n",
    "    def make_sound(self):\n",
    "        print(\"Animal Sound\")\n",
    "        \n",
    "class Domestic:\n",
    "    def __init__(self, type):\n",
    "        self.type = type\n",
    "        \n",
    "class Dog(Animal, Domestic):\n",
    "    def make_sound(self):\n",
    "        print(\"Bark\")\n",
    "        \n",
    "dog = Dog(\"Buddy\", \"Domestic\")\n",
    "print(dog.name)       # Output: Buddy\n",
    "print(dog.type)       # Output: Domestic\n",
    "#dog"
   ]
  },
  {
   "cell_type": "code",
   "execution_count": null,
   "id": "d51cc1b9-5bf1-4b7f-b8b7-2174359a3a27",
   "metadata": {},
   "outputs": [],
   "source": []
  }
 ],
 "metadata": {
  "kernelspec": {
   "display_name": "Python 3 (ipykernel)",
   "language": "python",
   "name": "python3"
  },
  "language_info": {
   "codemirror_mode": {
    "name": "ipython",
    "version": 3
   },
   "file_extension": ".py",
   "mimetype": "text/x-python",
   "name": "python",
   "nbconvert_exporter": "python",
   "pygments_lexer": "ipython3",
   "version": "3.10.8"
  }
 },
 "nbformat": 4,
 "nbformat_minor": 5
}
