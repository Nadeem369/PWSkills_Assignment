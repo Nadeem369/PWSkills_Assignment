{
 "cells": [
  {
   "cell_type": "markdown",
   "id": "93a730f0-aabb-4931-a2a2-838fc98b2c05",
   "metadata": {},
   "source": [
    "#### Q1. What is Flask Framework? What are the advantages of Flask Framework?"
   ]
  },
  {
   "cell_type": "markdown",
   "id": "fb5a7b2c-aedb-4548-b73a-e150ab50b79a",
   "metadata": {},
   "source": [
    "Flast Framework is a popular Python Framework which is used to devloping web application, Flask is a lightweight framework they provide simple yet powerfull way to built web application.\n",
    "\n",
    "Some of the key feature of Flask include:\n",
    "\n",
    "> Built in development server and debugger.\n",
    "> Support for URL routing.\n",
    "> Easy to integration with Database.\n",
    "> Support for cookies and session.\n",
    "> Built in support for user testing.\n",
    "> Simple and Easy to understand API.\n",
    "\n",
    "Flask is a popular choice for building web applications due to its simplicity, flexibility, and extensibility. It is widely used in the development of small to medium-sized web applications, RESTful APIs, and microservices."
   ]
  },
  {
   "cell_type": "markdown",
   "id": "708b478a-bba0-491a-bcc6-bc2f89be75ff",
   "metadata": {
    "jp-MarkdownHeadingCollapsed": true,
    "tags": []
   },
   "source": [
    "##### Here are some of the advantages of using Flask for building web applications:\n",
    "\n",
    "Lightweight and flexible: Flask is a lightweight and flexible framework that can be easily customized to meet the specific needs of a project. This makes it a great choice for building web applications that require a high degree of flexibility and customization.\n",
    "\n",
    "Easy to learn: Flask is easy to learn and use, making it an ideal choice for developers who are new to web development or are looking to build a web application quickly.\n",
    "\n",
    "Large and active community: Flask has a large and active community of developers who contribute to the framework and provide support and guidance to other developers. This means that developers can easily find resources and solutions to common problems, making it easier to build high-quality web applications.\n",
    "\n",
    "Built-in development server and debugger: Flask comes with a built-in development server and debugger that can help simplify the development process and make it easier to identify and fix errors in your code.\n",
    "\n",
    "Modular design: Flask is designed to be highly modular, which means that it can be easily extended with third-party plugins and extensions. This makes it easy to add new features to your Flask application without having to write complex code.\n",
    "\n",
    "Scalable: Flask is highly scalable and can be used to build web applications that can handle large volumes of traffic and data. It is designed to be fast and efficient, making it a great choice for building high-performance web applications.\n",
    "\n",
    "Overall, Flask offers a range of benefits that make it a popular choice for building web applications in Python. Its lightweight and flexible design, easy-to-learn syntax, large community, and built-in development tools make it an excellent choice for developers of all skill levels."
   ]
  },
  {
   "cell_type": "markdown",
   "id": "de6c5013-0d94-4b8e-a4bf-53d2783b0807",
   "metadata": {},
   "source": [
    "#### Q2. Create a simple Flask application to display ‘Hello World!!’. Attach the screenshot of the output inJupyter Notebook."
   ]
  },
  {
   "cell_type": "raw",
   "id": "715f64ab-bfc7-43c6-9c1f-6bd6821fd5a0",
   "metadata": {},
   "source": [
    "Here is a simple Flask application to display \"Hello World\"."
   ]
  },
  {
   "cell_type": "code",
   "execution_count": null,
   "id": "b0ddaa81-bd14-40f9-8bde-917dd9638e48",
   "metadata": {},
   "outputs": [],
   "source": [
    "from flask import Flask\n",
    "\n",
    "app = Flask(__name__)\n",
    "\n",
    "@app.route('/')\n",
    "def hello_world():\n",
    "    return \"Hello World\"\n",
    "\n",
    "if __name__ == '__manin':\n",
    "    app.run()\n",
    "    \n",
    "# This is copied program from Flask orignal program is runnig through the help of Flask."
   ]
  },
  {
   "cell_type": "markdown",
   "id": "cecf647e-ee60-4fec-b9fc-cd31e1bdea2e",
   "metadata": {},
   "source": [
    "<img src=\"https://salmon-translator-rclgo.pwskills.app:5000/\" width=\"900\" height=\"300\"/>"
   ]
  },
  {
   "cell_type": "markdown",
   "id": "36dce9ee-3fa9-4876-88a6-8e9ee7e0b096",
   "metadata": {},
   "source": [
    "#### Q3. What is App routing in Flask? Why do we use app routes?"
   ]
  },
  {
   "cell_type": "markdown",
   "id": "5ddbf632-01d5-40f9-a0f8-3bfddb5039d7",
   "metadata": {},
   "source": [
    "App routing in Flask refers to the process of defining URL patterns that map to specific view functions. It allows developers to create a web application with multiple pages or endpoints that handle different types of requests.\n",
    "\n",
    "In Flask, we use the @app.route() decorator to define app routes. This decorator specifies the URL pattern for a particular view function and maps it to a specific URL or endpoint. The decorator is placed before the function definition of the view function.\n",
    "\n",
    "For example, the following code defines an app route for the homepage of a web application:"
   ]
  },
  {
   "cell_type": "code",
   "execution_count": null,
   "id": "acc1e134-2997-421f-81db-d0c7c31d55c5",
   "metadata": {},
   "outputs": [],
   "source": [
    "from flask import Flask\n",
    "\n",
    "app = Flask(__name__)\n",
    "\n",
    "@app.route('/')\n",
    "def home():\n",
    "    return 'Welcome to my Flask app!'"
   ]
  },
  {
   "cell_type": "markdown",
   "id": "453dc016-7f82-4e82-b058-fbac1b34dc66",
   "metadata": {},
   "source": [
    "Here, the @app.route('/') decorator specifies the URL pattern for the home() function, which is the root URL pattern, i.e., the homepage of the web application. When a user accesses this URL, the home() function is called, and it returns the string 'Welcome to my Flask app!'.\n",
    "\n",
    "App routing is a fundamental part of building a Flask application. It helps to organize the application's codebase and makes it easy to manage different URL patterns and requests. By using app routes, we can create a scalable and modular web application that is easy to maintain and extend over time."
   ]
  },
  {
   "cell_type": "markdown",
   "id": "0f300c76-28a9-496f-a07e-a9c182872dde",
   "metadata": {},
   "source": [
    "# <img src=\"https://salmon-translator-rclgo.pwskills.app:5000/welcome/\" width=\"900\" height=\"300\"/>"
   ]
  },
  {
   "cell_type": "markdown",
   "id": "9154491f-4371-40e1-a067-5f1250971002",
   "metadata": {},
   "source": [
    "# Q4. Create a “/welcome” route to display the welcome message “Welcome to ABC Corporation” and a “/” route to show the following details:\n",
    "Company Name: ABC Corporation\n",
    "Location: India\n",
    "Contact Detail: 999-999-9999"
   ]
  },
  {
   "cell_type": "raw",
   "id": "448a0526-43ba-48f5-84f8-b52a4146ab52",
   "metadata": {},
   "source": [
    "from flask import Flask\n",
    "\n",
    "app = Flask(__name__)\n",
    "\n",
    "@app.route(\"/welcome\")\n",
    "def welcome():\n",
    "    return \"<h1>Welcome To ABC Corporation</h1>\"\n",
    "\n",
    "@app.route(\"/details\")\n",
    "def details():\n",
    "    company_name = \"ABC Corporation\"\n",
    "    location = \"India\"\n",
    "    contact_detail = \"99999 99999\"\n",
    "\n",
    "    return f\"Company Name: {company_name}<br>\" \\\n",
    "           f\"Location: {location}<br>\" \\\n",
    "           f\"Contact Detail: {contact_detail}\"\n",
    "\n",
    "if __name__ == \"__main__\":\n",
    "    app.run(host=\"0.0.0.0\")\n"
   ]
  },
  {
   "cell_type": "markdown",
   "id": "f4c31291-5975-4c76-b918-dfd4f6baed34",
   "metadata": {},
   "source": [
    "#Welcome To ABC Corporation\n",
    "\n",
    "# <img src=\"https://white-journalist-otssy.pwskills.app:5000/welcome\" width=\"900\" height=\"300\"/>"
   ]
  },
  {
   "cell_type": "markdown",
   "id": "18232bbf-4ece-4c9e-bfd5-3605d628d7ce",
   "metadata": {},
   "source": [
    "#Details\n",
    "\n",
    "# <img src=\"https://white-journalist-otssy.pwskills.app:5000/details\" width=\"900\" height=\"300\"/>"
   ]
  },
  {
   "cell_type": "markdown",
   "id": "5ef6517b-be20-4a90-ab1e-979a467233e5",
   "metadata": {},
   "source": [
    "### Q5. What function is used in Flask for URL Building? Write a Python code to demonstrate the working of the url_for() function."
   ]
  },
  {
   "cell_type": "raw",
   "id": "bbfc0d0f-3ebd-44ef-982b-284ae5c346e1",
   "metadata": {},
   "source": [
    "In Flask, the url_for() function is used for URL building. It helps generate URLs for specific routes or functions within your Flask application, based on the provided endpoint. It is a convenient way to handle dynamic URLs without hardcoding them.\n",
    "\n",
    "Here's an example code that demonstrates the usage of the url_for() function:"
   ]
  },
  {
   "cell_type": "code",
   "execution_count": null,
   "id": "376239ee-5f89-4fc7-b2b6-94646f88eaf2",
   "metadata": {},
   "outputs": [],
   "source": [
    "from flask import Flask, url_for\n",
    "\n",
    "app = Flask(__name__)\n",
    "\n",
    "@app.route('/')\n",
    "def index():\n",
    "    return 'Home Page'\n",
    "\n",
    "@app.route('/user/<username>')\n",
    "def user_profile(username):\n",
    "    return f'Profile Page of {username}'\n",
    "\n",
    "@app.route('/post/<int:post_id>')\n",
    "def show_post(post_id):\n",
    "    return f'Post {post_id}'\n",
    "\n",
    "@app.route('/admin')\n",
    "def admin():\n",
    "    return 'Admin Page'\n",
    "\n",
    "@app.route('/login')\n",
    "def login():\n",
    "    return 'Login Page'\n",
    "\n",
    "if __name__ == '__main__':\n",
    "    with app.test_request_context():\n",
    "        # Demonstrating the usage of url_for() function\n",
    "        print(url_for('index'))\n",
    "        print(url_for('user_profile', username='john'))\n",
    "        print(url_for('show_post', post_id=1))\n",
    "        print(url_for('admin'))\n",
    "        print(url_for('login'))"
   ]
  },
  {
   "cell_type": "code",
   "execution_count": null,
   "id": "b2483d8a-50be-4f16-9949-1a15d691b69b",
   "metadata": {},
   "outputs": [],
   "source": []
  }
 ],
 "metadata": {
  "kernelspec": {
   "display_name": "Python 3 (ipykernel)",
   "language": "python",
   "name": "python3"
  },
  "language_info": {
   "codemirror_mode": {
    "name": "ipython",
    "version": 3
   },
   "file_extension": ".py",
   "mimetype": "text/x-python",
   "name": "python",
   "nbconvert_exporter": "python",
   "pygments_lexer": "ipython3",
   "version": "3.10.8"
  }
 },
 "nbformat": 4,
 "nbformat_minor": 5
}
