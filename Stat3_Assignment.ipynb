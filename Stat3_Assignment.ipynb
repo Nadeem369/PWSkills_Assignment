{
 "cells": [
  {
   "cell_type": "code",
   "execution_count": null,
   "id": "ef7fda4b",
   "metadata": {},
   "outputs": [],
   "source": [
    "# Statistics Assignment Advanve- 1"
   ]
  },
  {
   "cell_type": "markdown",
   "id": "326bfba9",
   "metadata": {},
   "source": [
    "#### Q1. What is the Probability density function?"
   ]
  },
  {
   "cell_type": "raw",
   "id": "88ca1550",
   "metadata": {},
   "source": [
    "The Probability Density Function (PDF) is a fundamental concept in probability and statistics, particularly in the context of continuous random variables. It describes the probability distribution of a continuous random variable and is often denoted as \n",
    "f(x), where x is the variable of interest.\n",
    "\n",
    "In simple terms, the PDF gives you the probability of the random variable taking on a specific value within a range. Unlike the Probability Mass Function (PMF), which is used for discrete random variables, the PDF is used for continuous random variables, where the possible values form a continuous range."
   ]
  },
  {
   "cell_type": "raw",
   "id": "fc13b65a",
   "metadata": {},
   "source": [
    "The PDF has the following properties:\n",
    "    \n",
    "    Non Negative Values\n",
    "    Area Under The Curve Lies Between 0 to 1\n",
    "    \n",
    "    \n",
    "The shape of the PDF curve depends on the specific probability distribution that the continuous random variable follows. Common examples of continuous probability distributions include the normal distribution, exponential distribution, uniform distribution, and many others. Each of these distributions has its own unique PDF."
   ]
  },
  {
   "cell_type": "markdown",
   "id": "0ffe0c63",
   "metadata": {},
   "source": [
    "#### Q2. What are the types of Probability distribution?"
   ]
  },
  {
   "cell_type": "raw",
   "id": "6cae15fa",
   "metadata": {},
   "source": [
    "There are several types of probability distributions in statistics, each with its own characteristics and use cases. Here are some of the most commonly encountered types:"
   ]
  },
  {
   "cell_type": "raw",
   "id": "cbd8cf3f",
   "metadata": {},
   "source": [
    "\n",
    "There are several types of probability distributions in statistics, each with its own characteristics and use cases. Here are some of the most commonly encountered types:\n",
    "\n",
    "Discrete Probability Distributions:\n",
    "\n",
    "Uniform Distribution: All outcomes are equally likely, like rolling a fair six-sided die.\n",
    "\n",
    "Bernoulli Distribution: Models the probability of success (1) or failure (0) in a single trial, like a coin flip.\n",
    "\n",
    "Binomial Distribution: Describes the number of successes in a fixed number of independent Bernoulli trials, such as the number of heads in 10 coin flips.\n",
    "\n",
    "Poisson Distribution: Models the number of events occurring within a fixed interval of time or space when events happen at a known average rate, like the number of customer arrivals at a store in an hour."
   ]
  },
  {
   "cell_type": "raw",
   "id": "02a4784b",
   "metadata": {},
   "source": [
    "Continuous Probability Distributions:\n",
    "\n",
    "Normal Distribution (Gaussian Distribution): Characterized by a bell-shaped curve and is widely used to model naturally occurring phenomena like heights, weights, and measurement errors.\n",
    "\n",
    "Exponential Distribution: Models the time between events in a Poisson process, such as the time between arrivals of customers at a service counter.\n",
    "\n",
    "Uniform Distribution (Continuous): All values within a given interval are equally likely, like the continuous version of rolling a fair die between 0 and 1.\n",
    "\n",
    "Log-Normal Distribution: Used for variables that have a skewed, right-tailed distribution, such as stock prices."
   ]
  },
  {
   "cell_type": "raw",
   "id": "49b6be1c",
   "metadata": {},
   "source": [
    "Multinomial Distribution: Generalizes the binomial distribution to more than two categories or outcomes, often used in situations where you have more than two mutually exclusive choices.\n",
    "\n",
    "Hypergeometric Distribution: Describes the probability of drawing specific items from a finite population without replacement. It's often used in scenarios like drawing cards from a deck without replacement.\n",
    "\n",
    "Geometric Distribution: Models the number of trials required for the first success in a sequence of independent Bernoulli trials.\n",
    "\n",
    "Negative Binomial Distribution: Describes the number of trials needed to achieve a specified number of successes in a sequence of independent Bernoulli trials.\n",
    "\n",
    "Chi-Square Distribution: Used in hypothesis testing and confidence interval estimation, especially when dealing with sample variances.\n",
    "\n",
    "Student's t-Distribution: Commonly used for hypothesis testing when dealing with small sample sizes or when population standard deviations are unknown.\n",
    "\n",
    "F-Distribution: Used for comparing the variances of two or more populations, often in the context of analysis of variance (ANOVA) and regression analysis."
   ]
  },
  {
   "cell_type": "markdown",
   "id": "a876a3e2",
   "metadata": {},
   "source": [
    "#### Q3. Write a Python function to calculate the probability density function of a normal distribution with given mean and standard deviation at a given point."
   ]
  },
  {
   "cell_type": "raw",
   "id": "961ba873",
   "metadata": {},
   "source": [
    "You can calculate the probability density function (PDF) of a normal distribution in Python using the scipy.stats.norm module, which provides functions for working with normal distributions. Here's a Python function that calculates the PDF at a given point for a normal distribution with a specified mean and standard deviation:"
   ]
  },
  {
   "cell_type": "code",
   "execution_count": 4,
   "id": "43c8ee95",
   "metadata": {},
   "outputs": [
    {
     "name": "stdout",
     "output_type": "stream",
     "text": [
      "PDF at x = 3.0: 0.2420\n"
     ]
    }
   ],
   "source": [
    "import scipy.stats as stats\n",
    "\n",
    "def calculate_normal_pdf(x, mean, std_dev):\n",
    "    \"\"\"\n",
    "    Calculate the PDF of a normal distribution at a given point.\n",
    "\n",
    "    Parameters:\n",
    "    - x: The point at which to calculate the PDF.\n",
    "    - mean: The mean (average) of the normal distribution.\n",
    "    - std_dev: The standard deviation of the normal distribution.\n",
    "\n",
    "    Returns:\n",
    "    - pdf_value: The PDF value at the given point.\n",
    "    \"\"\"\n",
    "    pdf_value = stats.norm.pdf(x, loc=mean, scale=std_dev)\n",
    "    return pdf_value\n",
    "\n",
    "# Example usage:\n",
    "mean = 2.0  # Mean of the normal distribution\n",
    "std_dev = 1.0  # Standard deviation of the normal distribution\n",
    "x_value = 3.0  # Point at which to calculate the PDF\n",
    "\n",
    "pdf_at_x = calculate_normal_pdf(x_value, mean, std_dev)\n",
    "print(f\"PDF at x = {x_value}: {pdf_at_x:.4f}\")"
   ]
  },
  {
   "cell_type": "markdown",
   "id": "183fa5ec",
   "metadata": {},
   "source": [
    "#### Q4. What are the properties of Binomial distribution? Give two examples of events where binomial distribution can be applied."
   ]
  },
  {
   "cell_type": "raw",
   "id": "b6ee8493",
   "metadata": {},
   "source": [
    "The Binomial distribution is a discrete probability distribution that describes the number of successes (usually denoted as \"x\") in a fixed number of independent Bernoulli trials. It has several key properties:"
   ]
  },
  {
   "cell_type": "raw",
   "id": "b809dfca",
   "metadata": {},
   "source": [
    "Fixed Number of Trials (n): The Binomial distribution is defined for a fixed number of trials, denoted as \"n.\" In each trial, there are two possible outcomes: success (usually denoted as \"S\") or failure (usually denoted as \"F\")."
   ]
  },
  {
   "cell_type": "raw",
   "id": "65247194",
   "metadata": {},
   "source": [
    "Independent Trials: Each trial is independent of the others, meaning the outcome of one trial does not affect the outcome of any other trial."
   ]
  },
  {
   "cell_type": "raw",
   "id": "9f58a8eb",
   "metadata": {},
   "source": [
    "Probability Mass Function (PMF): The probability of getting exactly \"x\" successes in \"n\" trials is given by the Binomial PMF formula:\n",
    "\n",
    "P(X = x) = (n choose x) * p^x * (1 - p)^(n - x)\n",
    "\n",
    "Where:"
   ]
  },
  {
   "cell_type": "raw",
   "id": "be135aee",
   "metadata": {},
   "source": [
    "\"(n choose x)\" represents the binomial coefficient, which is the number of ways to choose \"x\" successes from \"n\" trials.\n",
    "\"p^x\" represents the probability of getting \"x\" successes.\n",
    "\"(1 - p)^(n - x)\" represents the probability of getting \"n - x\" failures"
   ]
  },
  {
   "cell_type": "raw",
   "id": "bb704493",
   "metadata": {},
   "source": [
    "\n",
    "Two common examples of events where the Binomial distribution can be applied are:\n",
    "\n",
    "Coin Flips: When you flip a biased coin (e.g., one that does not have an equal probability of landing heads or tails) multiple times and want to calculate the probability of getting a specific number of heads in a fixed number of flips.\n",
    "\n",
    "Quality Control: In manufacturing or quality control processes, you might be interested in the number of defective items in a random sample of a fixed size. For example, if you inspect 100 items and each item has a known probability of being defective, you can use the Binomial distribution to calculate the probability of finding a certain number of defective items in the sample."
   ]
  },
  {
   "cell_type": "markdown",
   "id": "62b29546",
   "metadata": {},
   "source": [
    "#### Q5. Generate a random sample of size 1000 from a binomial distribution with probability of success 0.4 and plot a histogram of the results using matplotlib."
   ]
  },
  {
   "cell_type": "code",
   "execution_count": 6,
   "id": "27348b6f",
   "metadata": {},
   "outputs": [
    {
     "data": {
      "image/png": "[encoded data removed]",
      "text/plain": [
       "<Figure size 640x480 with 1 Axes>"
      ]
     },
     "metadata": {},
     "output_type": "display_data"
    }
   ],
   "source": [
    "import numpy as np\n",
    "import matplotlib.pyplot as plt\n",
    "\n",
    "# Set the parameters for the Binomial distribution\n",
    "n = 1000  # Sample size\n",
    "p = 0.4   # Probability of success\n",
    "\n",
    "# Generate a random sample from the Binomial distribution\n",
    "random_sample = np.random.binomial(n, p, size=n)\n",
    "\n",
    "# Plot a histogram of the random sample\n",
    "plt.hist(random_sample, bins=20, density=True, alpha=0.6, color='b', edgecolor='black')\n",
    "\n",
    "# Add labels and a title to the plot\n",
    "plt.xlabel('Number of Successes')\n",
    "plt.ylabel('Probability')\n",
    "plt.title('Histogram of Binomial Distribution (n=1000, p=0.4)')\n",
    "\n",
    "# Show the plot\n",
    "plt.show()"
   ]
  },
  {
   "cell_type": "markdown",
   "id": "753b90f0",
   "metadata": {},
   "source": [
    "#### Q6. Write a Python function to calculate the cumulative distribution function of a Poisson distribution with given mean at a given point."
   ]
  },
  {
   "cell_type": "code",
   "execution_count": 7,
   "id": "a4ff1c4d",
   "metadata": {},
   "outputs": [
    {
     "name": "stdout",
     "output_type": "stream",
     "text": [
      "CDF at k = 2: 0.4232\n"
     ]
    }
   ],
   "source": [
    "import scipy.stats as stats\n",
    "\n",
    "def calculate_poisson_cdf(k, mu):\n",
    "    \"\"\"\n",
    "    Calculate the CDF of a Poisson distribution at a given point.\n",
    "\n",
    "    Parameters:\n",
    "    - k: The point at which to calculate the CDF.\n",
    "    - mu: The mean (average) of the Poisson distribution.\n",
    "\n",
    "    Returns:\n",
    "    - cdf_value: The CDF value at the given point.\n",
    "    \"\"\"\n",
    "    cdf_value = stats.poisson.cdf(k, mu)\n",
    "    return cdf_value\n",
    "\n",
    "# Example usage:\n",
    "mean = 3.0  # Mean of the Poisson distribution\n",
    "k_value = 2  # Point at which to calculate the CDF\n",
    "\n",
    "cdf_at_k = calculate_poisson_cdf(k_value, mean)\n",
    "print(f\"CDF at k = {k_value}: {cdf_at_k:.4f}\")"
   ]
  },
  {
   "cell_type": "markdown",
   "id": "cad96ca5",
   "metadata": {},
   "source": [
    "#### Q7. How Binomial distribution different from Poisson distribution?"
   ]
  },
  {
   "cell_type": "raw",
   "id": "29e55370",
   "metadata": {},
   "source": [
    "The key differences between the Binomial and Poisson distributions lie in the nature of the trials or events they model and the parameters used. The Binomial distribution is used for a fixed number of trials with constant success probability, while the Poisson distribution is used for modeling events in a fixed interval with a known rate parameter."
   ]
  },
  {
   "cell_type": "markdown",
   "id": "dd7653b1",
   "metadata": {},
   "source": [
    "#### Q8. Generate a random sample of size 1000 from a Poisson distribution with mean 5 and calculate the sample mean and variance."
   ]
  },
  {
   "cell_type": "raw",
   "id": "3d808d17",
   "metadata": {},
   "source": [
    "You can generate a random sample from a Poisson distribution with a mean of 5 using Python's NumPy library and then calculate the sample mean and variance. Here's how you can do it:"
   ]
  },
  {
   "cell_type": "code",
   "execution_count": 8,
   "id": "6a9fef18",
   "metadata": {},
   "outputs": [
    {
     "name": "stdout",
     "output_type": "stream",
     "text": [
      "Sample Mean: 5.1450\n",
      "Sample Variance: 4.5200\n"
     ]
    }
   ],
   "source": [
    "import numpy as np\n",
    "\n",
    "# Set the parameters for the Poisson distribution\n",
    "mean = 5  # Mean of the Poisson distribution\n",
    "sample_size = 1000  # Size of the random sample\n",
    "\n",
    "# Generate a random sample from the Poisson distribution\n",
    "random_sample = np.random.poisson(mean, size=sample_size)\n",
    "\n",
    "# Calculate the sample mean and variance\n",
    "sample_mean = np.mean(random_sample)\n",
    "sample_variance = np.var(random_sample, ddof=0)  # ddof=0 for population variance\n",
    "\n",
    "print(f\"Sample Mean: {sample_mean:.4f}\")\n",
    "print(f\"Sample Variance: {sample_variance:.4f}\")"
   ]
  },
  {
   "cell_type": "markdown",
   "id": "1882c5af",
   "metadata": {},
   "source": [
    "#### Q9. How mean and variance are related in Binomial distribution and Poisson distribution?"
   ]
  },
  {
   "cell_type": "raw",
   "id": "62216f86",
   "metadata": {},
   "source": [
    "\n",
    "In both the Binomial distribution and the Poisson distribution, the mean (average) and variance are related, but the nature of their relationship differs."
   ]
  },
  {
   "cell_type": "raw",
   "id": "243d6640",
   "metadata": {},
   "source": [
    "In the Binomial distribution, the variance depends on both the number of trials (n) and the probability of success (p). The variance increases as the probability of success deviates from 0.5 (the case of a fair coin flip) and as the number of trials (n) increases."
   ]
  },
  {
   "cell_type": "raw",
   "id": "36b5a5e5",
   "metadata": {},
   "source": [
    "In the Poisson distribution, the mean and variance are equal and both are represented by the rate parameter \n",
    "λ. This means that in a Poisson distribution, the spread (variability) of the data is solely determined by the average rate of events (λ).\n",
    "When λ is larger, the spread is larger as well."
   ]
  },
  {
   "cell_type": "markdown",
   "id": "6cfc8349",
   "metadata": {},
   "source": [
    "#### Q10. In normal distribution with respect to mean position, where does the least frequent data appear?"
   ]
  },
  {
   "cell_type": "raw",
   "id": "a941300f",
   "metadata": {},
   "source": [
    "In a normal distribution, also known as a Gaussian distribution, the least frequent data points appear in the tails of the distribution, farthest away from the mean. The normal distribution is a symmetric probability distribution, and its shape resembles a bell curve.\n",
    "\n",
    "Here's a key characteristic of the normal distribution:"
   ]
  },
  {
   "cell_type": "raw",
   "id": "0b20e871",
   "metadata": {},
   "source": [
    "Tail Ends: The data values become less frequent as they move farther away from the mean in both directions (to the left and right of the mean). The tails of the distribution contain the least frequent data points.\n",
    "In a standard normal distribution (with a mean of 0 and a standard deviation of 1), about 68% of the data falls within one standard deviation of the mean, about 95% falls within two standard deviations, and about 99.7% falls within three standard deviations. This leaves only a small percentage of data points in the tails, which are the least frequent values.\n",
    "\n",
    "In practical terms, if you have a dataset that follows a normal distribution, the data points that are very far from the mean (several standard deviations away) are considered outliers and are typically quite rare. These extreme values in the tails of the distribution can be of particular interest in statistical analysis, as they might indicate unusual or rare events in some contexts."
   ]
  },
  {
   "cell_type": "code",
   "execution_count": null,
   "id": "ed56c587",
   "metadata": {},
   "outputs": [],
   "source": []
  }
 ],
 "metadata": {
  "kernelspec": {
   "display_name": "Python 3 (ipykernel)",
   "language": "python",
   "name": "python3"
  },
  "language_info": {
   "codemirror_mode": {
    "name": "ipython",
    "version": 3
   },
   "file_extension": ".py",
   "mimetype": "text/x-python",
   "name": "python",
   "nbconvert_exporter": "python",
   "pygments_lexer": "ipython3",
   "version": "3.11.1"
  }
 },
 "nbformat": 4,
 "nbformat_minor": 5
}
