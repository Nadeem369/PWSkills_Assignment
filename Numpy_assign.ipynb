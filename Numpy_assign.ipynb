{
 "cells": [
  {
   "cell_type": "markdown",
   "id": "a5c209bf-d853-4f17-990a-93b9ca06c526",
   "metadata": {},
   "source": [
    "# Numpy Assignment"
   ]
  },
  {
   "cell_type": "code",
   "execution_count": 3,
   "id": "523cdaff-ada0-4fbc-89b5-13251234b6f8",
   "metadata": {},
   "outputs": [],
   "source": [
    "import numpy as np\n",
    "list_ = [ '1' , '2' , '3' , '4' , '5' ]\n",
    "array_list = np.array(object = list_)"
   ]
  },
  {
   "cell_type": "code",
   "execution_count": 4,
   "id": "1f3147ad-1924-4b32-9b71-fd6a83a02506",
   "metadata": {},
   "outputs": [
    {
     "data": {
      "text/plain": [
       "array(['1', '2', '3', '4', '5'], dtype='<U1')"
      ]
     },
     "execution_count": 4,
     "metadata": {},
     "output_type": "execute_result"
    }
   ],
   "source": [
    "array_list"
   ]
  },
  {
   "cell_type": "markdown",
   "id": "00b529a4-1f07-46de-8a5f-0c9a0354e758",
   "metadata": {},
   "source": [
    "# Q1.\n",
    "Is there any difference in the data type of variables list_ and array_list? If there is then write a code\n",
    "to print the data types of both the variables."
   ]
  },
  {
   "cell_type": "raw",
   "id": "65ecce8d-e98a-4033-ad2a-224eddab6a87",
   "metadata": {},
   "source": [
    "Yes, there is a diferent b/w variable 'List' and Variable 'Array_list'"
   ]
  },
  {
   "cell_type": "code",
   "execution_count": 8,
   "id": "c6399a86-1f67-42db-a166-01d7b5a51852",
   "metadata": {},
   "outputs": [
    {
     "data": {
      "text/plain": [
       "list"
      ]
     },
     "execution_count": 8,
     "metadata": {},
     "output_type": "execute_result"
    }
   ],
   "source": [
    "# List\n",
    "list = [1,2,3,4,5]\n",
    "type(list)"
   ]
  },
  {
   "cell_type": "code",
   "execution_count": 9,
   "id": "319e112e-91a1-43bd-8e69-e7eaec85ad67",
   "metadata": {},
   "outputs": [],
   "source": [
    "import pandas as pd"
   ]
  },
  {
   "cell_type": "code",
   "execution_count": 11,
   "id": "6a8f6156-d314-431f-979a-f65ddd991d24",
   "metadata": {},
   "outputs": [
    {
     "data": {
      "text/plain": [
       "numpy.ndarray"
      ]
     },
     "execution_count": 11,
     "metadata": {},
     "output_type": "execute_result"
    }
   ],
   "source": [
    "# Array_List\n",
    "Array_list = np.array([1,2,3,4,5])\n",
    "type(Array_list)"
   ]
  },
  {
   "cell_type": "markdown",
   "id": "5b8b9663-9809-47b3-bb66-722451f4439c",
   "metadata": {},
   "source": [
    "# Q2.\n",
    "Write a code to print the data type of each and every element of both the variables list_ and\n",
    "arra_list."
   ]
  },
  {
   "cell_type": "code",
   "execution_count": 16,
   "id": "10f96735-0b94-4ecb-b9da-d3916817285f",
   "metadata": {},
   "outputs": [],
   "source": [
    "# Data type of list element"
   ]
  },
  {
   "cell_type": "code",
   "execution_count": 15,
   "id": "4efab71f-ff1d-47b6-bc3e-5b941dfb0ca4",
   "metadata": {},
   "outputs": [
    {
     "name": "stdout",
     "output_type": "stream",
     "text": [
      "1 data type: <class 'int'>\n",
      "2 data type: <class 'int'>\n",
      "3 data type: <class 'int'>\n",
      "4 data type: <class 'int'>\n",
      "5 data type: <class 'int'>\n"
     ]
    }
   ],
   "source": [
    "list = [1,2,3,4,5]\n",
    "for i in list:\n",
    "    print(i,\"data type:\", type(i) )"
   ]
  },
  {
   "cell_type": "code",
   "execution_count": 17,
   "id": "43e41485-6672-4ce5-911e-afcb1fa4a637",
   "metadata": {},
   "outputs": [],
   "source": [
    "# Data type of Array_list element"
   ]
  },
  {
   "cell_type": "code",
   "execution_count": 18,
   "id": "742f631a-b696-4b08-bc6a-bf857771c07b",
   "metadata": {},
   "outputs": [
    {
     "name": "stdout",
     "output_type": "stream",
     "text": [
      "1 data type: <class 'numpy.int64'>\n",
      "2 data type: <class 'numpy.int64'>\n",
      "3 data type: <class 'numpy.int64'>\n",
      "4 data type: <class 'numpy.int64'>\n",
      "5 data type: <class 'numpy.int64'>\n"
     ]
    }
   ],
   "source": [
    "Array_list = np.array([1,2,3,4,5])\n",
    "for i in Array_list:\n",
    "    print(i,\"data type:\", type(i) )\n",
    "    "
   ]
  },
  {
   "cell_type": "markdown",
   "id": "1373cd32-e104-473e-abb2-c96195aaaeeb",
   "metadata": {},
   "source": [
    "# Q3.\n",
    "Considering the following changes in the variable, array_list:\n",
    "array_list = np.array(object = list_, dtype = int)\n",
    "Will there be any difference in the data type of the elements present in both the variables, list_ and\n",
    "arra_list? If so then print the data types of each and every element present in both the variables, list_\n",
    "and arra_list."
   ]
  },
  {
   "cell_type": "code",
   "execution_count": 19,
   "id": "5e4571bc-e6a0-4ff3-8b43-420cd42e09d4",
   "metadata": {},
   "outputs": [
    {
     "name": "stdout",
     "output_type": "stream",
     "text": [
      "1 data type: <class 'int'>\n",
      "2 data type: <class 'int'>\n",
      "3 data type: <class 'int'>\n",
      "4 data type: <class 'int'>\n",
      "5 data type: <class 'int'>\n"
     ]
    }
   ],
   "source": [
    "list = [1,2,3,4,5]\n",
    "for i in list:\n",
    "    print(i,\"data type:\", type(i) )"
   ]
  },
  {
   "cell_type": "code",
   "execution_count": 20,
   "id": "2e2fa714-92a9-4c5a-b9a4-5b8d31042e05",
   "metadata": {},
   "outputs": [
    {
     "name": "stdout",
     "output_type": "stream",
     "text": [
      "1 data type: <class 'numpy.int64'>\n",
      "2 data type: <class 'numpy.int64'>\n",
      "3 data type: <class 'numpy.int64'>\n",
      "4 data type: <class 'numpy.int64'>\n",
      "5 data type: <class 'numpy.int64'>\n"
     ]
    }
   ],
   "source": [
    "Array_list = np.array([1,2,3,4,5])\n",
    "for i in Array_list:\n",
    "    print(i,\"data type:\", type(i) )"
   ]
  },
  {
   "cell_type": "markdown",
   "id": "21f17724-b5d7-4e5c-b1df-2899e598c7d8",
   "metadata": {},
   "source": [
    "# Q4. \n",
    "Write a code to find the following characteristics of variable, num_array:\n",
    "(i) shape\n",
    "(ii) size"
   ]
  },
  {
   "cell_type": "code",
   "execution_count": 21,
   "id": "50c1b3dc-d319-4e92-88b0-886a0de7b2e9",
   "metadata": {},
   "outputs": [],
   "source": [
    "import numpy as np\n",
    "num_list = [ [ 1 , 2 , 3 ] , [ 4 , 5 , 6 ] ]"
   ]
  },
  {
   "cell_type": "code",
   "execution_count": 22,
   "id": "027f8767-4cc0-448c-8946-722242c65a71",
   "metadata": {},
   "outputs": [],
   "source": [
    "arr_list = np.array(object=num_list)"
   ]
  },
  {
   "cell_type": "code",
   "execution_count": 23,
   "id": "4890c5ed-b99a-4517-ae90-ad304d3dff0b",
   "metadata": {},
   "outputs": [
    {
     "data": {
      "text/plain": [
       "array([[1, 2, 3],\n",
       "       [4, 5, 6]])"
      ]
     },
     "execution_count": 23,
     "metadata": {},
     "output_type": "execute_result"
    }
   ],
   "source": [
    "arr_list"
   ]
  },
  {
   "cell_type": "code",
   "execution_count": 24,
   "id": "1971a031-1b0d-498d-a5b1-ad2240f45cc5",
   "metadata": {},
   "outputs": [],
   "source": [
    "# Shape"
   ]
  },
  {
   "cell_type": "code",
   "execution_count": 25,
   "id": "20fcef8b-a0c9-4b41-826d-0017766281d0",
   "metadata": {},
   "outputs": [
    {
     "data": {
      "text/plain": [
       "(2, 3)"
      ]
     },
     "execution_count": 25,
     "metadata": {},
     "output_type": "execute_result"
    }
   ],
   "source": [
    "np.shape(arr_list)"
   ]
  },
  {
   "cell_type": "code",
   "execution_count": 27,
   "id": "a68cbbd6-373d-40b4-9300-976047dd91ff",
   "metadata": {},
   "outputs": [],
   "source": [
    "# size"
   ]
  },
  {
   "cell_type": "code",
   "execution_count": 28,
   "id": "2a139511-3146-4d8d-8264-ec95d6c38f02",
   "metadata": {},
   "outputs": [
    {
     "data": {
      "text/plain": [
       "6"
      ]
     },
     "execution_count": 28,
     "metadata": {},
     "output_type": "execute_result"
    }
   ],
   "source": [
    "np.size(arr_list)"
   ]
  },
  {
   "cell_type": "markdown",
   "id": "589ff677-56cc-4fb1-bbf7-778c877cda5a",
   "metadata": {},
   "source": [
    "# Q5.\n",
    "Write a code to create numpy array of 3*3 matrix containing zeros only, using a numpy array\n",
    "creation function.\n",
    "[Hint: The size of the array will be 9 and the shape will be (3,3).]"
   ]
  },
  {
   "cell_type": "code",
   "execution_count": 30,
   "id": "ae9f928a-b2c9-427a-a828-9c17e8201381",
   "metadata": {},
   "outputs": [],
   "source": [
    "var = np.zeros([3,3])"
   ]
  },
  {
   "cell_type": "code",
   "execution_count": 31,
   "id": "a82c42f5-45cd-434a-badc-20365812a930",
   "metadata": {},
   "outputs": [
    {
     "data": {
      "text/plain": [
       "array([[0., 0., 0.],\n",
       "       [0., 0., 0.],\n",
       "       [0., 0., 0.]])"
      ]
     },
     "execution_count": 31,
     "metadata": {},
     "output_type": "execute_result"
    }
   ],
   "source": [
    "var"
   ]
  },
  {
   "cell_type": "code",
   "execution_count": 32,
   "id": "81937b05-0ede-4e8f-9b84-1d493db2eb5c",
   "metadata": {},
   "outputs": [
    {
     "data": {
      "text/plain": [
       "(3, 3)"
      ]
     },
     "execution_count": 32,
     "metadata": {},
     "output_type": "execute_result"
    }
   ],
   "source": [
    "np.shape(var)"
   ]
  },
  {
   "cell_type": "code",
   "execution_count": 33,
   "id": "fa7dcfb2-4469-4a85-b789-fc52c3fc7814",
   "metadata": {},
   "outputs": [
    {
     "data": {
      "text/plain": [
       "9"
      ]
     },
     "execution_count": 33,
     "metadata": {},
     "output_type": "execute_result"
    }
   ],
   "source": [
    "np.size(var)"
   ]
  },
  {
   "cell_type": "markdown",
   "id": "24f2a8c0-955b-47f3-93f5-13f2964da4b8",
   "metadata": {},
   "source": [
    "# Q6.\n",
    "Create an identity matrix of shape (5,5) using numpy functions?\n",
    "[Hint: An identity matrix is a matrix containing 1 diagonally and other elements will be 0.]"
   ]
  },
  {
   "cell_type": "code",
   "execution_count": 34,
   "id": "6799f5c8-c5c9-4d35-9bd1-88d29cbc4e50",
   "metadata": {},
   "outputs": [
    {
     "data": {
      "text/plain": [
       "array([[1., 0., 0., 0., 0.],\n",
       "       [0., 1., 0., 0., 0.],\n",
       "       [0., 0., 1., 0., 0.],\n",
       "       [0., 0., 0., 1., 0.],\n",
       "       [0., 0., 0., 0., 1.]])"
      ]
     },
     "execution_count": 34,
     "metadata": {},
     "output_type": "execute_result"
    }
   ],
   "source": [
    "np.eye(5,5)"
   ]
  },
  {
   "cell_type": "code",
   "execution_count": null,
   "id": "72765462-7eaf-46e4-85ea-d745bf2e2272",
   "metadata": {},
   "outputs": [],
   "source": []
  }
 ],
 "metadata": {
  "kernelspec": {
   "display_name": "Python 3 (ipykernel)",
   "language": "python",
   "name": "python3"
  },
  "language_info": {
   "codemirror_mode": {
    "name": "ipython",
    "version": 3
   },
   "file_extension": ".py",
   "mimetype": "text/x-python",
   "name": "python",
   "nbconvert_exporter": "python",
   "pygments_lexer": "ipython3",
   "version": "3.10.8"
  }
 },
 "nbformat": 4,
 "nbformat_minor": 5
}
