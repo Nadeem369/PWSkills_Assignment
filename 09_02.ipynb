{
 "cells": [
  {
   "cell_type": "markdown",
   "id": "5f8e1151-f361-4f6d-bce7-c19ea5a2e227",
   "metadata": {},
   "source": [
    "# Pyhton Assignment 09/02/23"
   ]
  },
  {
   "cell_type": "markdown",
   "id": "5fe83d8e-6171-4779-99d0-512faba71056",
   "metadata": {},
   "source": [
    "**Here is the answer of 1st question**"
   ]
  },
  {
   "cell_type": "code",
   "execution_count": 6,
   "id": "a77876b9-2724-4a15-b222-dd4035303e74",
   "metadata": {},
   "outputs": [],
   "source": [
    "class Vehicle():\n",
    "    \n",
    "    def __init__(self, name_of_vehicle, max_speed, average_of_vehicle):\n",
    "        self.name_of_vehicle = name_of_vehicle\n",
    "        self.max_speed = max_speed\n",
    "        self.average_of_vehicle = average_of_vehicle\n",
    "        \n",
    "    def show_vehicle_details(self):\n",
    "        print(self.name_of_vehicle, self.max_speed, self.average_of_vehicle)"
   ]
  },
  {
   "cell_type": "code",
   "execution_count": 8,
   "id": "52d9be1b-fb40-4b54-a54a-cdb6bba661e1",
   "metadata": {},
   "outputs": [],
   "source": [
    "Obj_vehicle = Vehicle(\"Toyota\", 150, 23)"
   ]
  },
  {
   "cell_type": "code",
   "execution_count": 9,
   "id": "4259dbe6-58de-436f-a28e-11de750386a1",
   "metadata": {},
   "outputs": [
    {
     "name": "stdout",
     "output_type": "stream",
     "text": [
      "Toyota 150 23\n"
     ]
    }
   ],
   "source": [
    "Obj_vehicle.show_vehicle_details()"
   ]
  },
  {
   "cell_type": "markdown",
   "id": "5f8d6c05-2955-41d8-a1b2-bdd5061ad8b5",
   "metadata": {},
   "source": [
    "*Now, here is the exapmle of 2nd question*"
   ]
  },
  {
   "cell_type": "code",
   "execution_count": 27,
   "id": "ebda34ba-ea60-4fc2-9366-9da93e049bb4",
   "metadata": {},
   "outputs": [],
   "source": [
    "class Child_Vehicle(Vehicle):\n",
    "    \n",
    "    def __init__(self, name_of_vehicle, max_speed, average_of_vehicle):\n",
    "        super().__init__(name_of_vehicle, max_speed, average_of_vehicle)\n",
    "    \n",
    "    def seating_capacity(self, seating):\n",
    "        self.seating_capacity = seating\n",
    "        return f\"{self.name_of_vehicle} has a seating capacity of {seating} passengers.\""
   ]
  },
  {
   "cell_type": "code",
   "execution_count": 28,
   "id": "c9f972af-e974-4d1c-acca-e6b953130b4a",
   "metadata": {},
   "outputs": [
    {
     "name": "stdout",
     "output_type": "stream",
     "text": [
      "Toyota has a seating capacity of 5 passengers.\n"
     ]
    }
   ],
   "source": [
    "Obj_Child_Vehicle = Child_Vehicle(\"Toyota\", 150, 23)\n",
    "print(Obj_Child_Vehicle.seating_capacity(5))"
   ]
  },
  {
   "cell_type": "code",
   "execution_count": null,
   "id": "323416eb-0a45-4911-9f98-99d4d3f9db95",
   "metadata": {},
   "outputs": [],
   "source": []
  },
  {
   "cell_type": "markdown",
   "id": "36739e13-ef5a-4cbb-9d47-95f22a106b9d",
   "metadata": {},
   "source": [
    "# Answer.3"
   ]
  },
  {
   "cell_type": "markdown",
   "id": "e4919c20-690a-46f8-a6cf-cbe535b01183",
   "metadata": {},
   "source": [
    "Multiple inheritance is a feature in object-oriented programming where a class can inherit attributes and methods from more than one parent class. This allows for the creation of complex class hierarchies and promotes code reuse.\n",
    "\n",
    "Here's an example Python code demonstrating multiple inheritance:"
   ]
  },
  {
   "cell_type": "code",
   "execution_count": 1,
   "id": "01bb2154-8329-421e-b8c7-0d52d507aa63",
   "metadata": {},
   "outputs": [
    {
     "name": "stdout",
     "output_type": "stream",
     "text": [
      "Dog is walking.\n",
      "Fido is eating.\n",
      "Woof!\n"
     ]
    }
   ],
   "source": [
    "class Animal:\n",
    "    def __init__(self, name):\n",
    "        self.name = name\n",
    "        \n",
    "    def eat(self):\n",
    "        print(f\"{self.name} is eating.\")\n",
    "        \n",
    "class Mammal:\n",
    "    def __init__(self, species):\n",
    "        self.species = species\n",
    "        \n",
    "    def walk(self):\n",
    "        print(f\"{self.species} is walking.\")\n",
    "        \n",
    "class Dog(Animal, Mammal):\n",
    "    def __init__(self, name, breed):\n",
    "        Animal.__init__(self, name)\n",
    "        Mammal.__init__(self, \"Dog\")\n",
    "        self.breed = breed\n",
    "        \n",
    "    def bark(self):\n",
    "        print(\"Woof!\")\n",
    "        \n",
    "dog = Dog(\"Fido\", \"Poodle\")\n",
    "dog.walk()\n",
    "dog.eat()\n",
    "dog.bark()"
   ]
  },
  {
   "cell_type": "markdown",
   "id": "05118405-9551-4970-ba1d-71d33f12c515",
   "metadata": {},
   "source": [
    "In the example code above, we define three classes: Animal, Mammal, and Dog. Animal and Mammal are parent classes of Dog, which inherits from both of them using multiple inheritance."
   ]
  },
  {
   "cell_type": "markdown",
   "id": "25d36d7e-7188-417f-9c55-5b367308427c",
   "metadata": {},
   "source": [
    "# Ans. 4"
   ]
  },
  {
   "cell_type": "markdown",
   "id": "ec23b7fd-69b1-491b-93e6-68c5f89f2bc9",
   "metadata": {},
   "source": [
    "In Python, getter and setter methods are used to access and modify the values of private attributes in a class. These methods provide a way to encapsulate the internal state of a class and control access to it. Getter methods allow you to retrieve the value of a private attribute, and setter methods allow you to modify the value of a private attribute.\n",
    "\n",
    "Here is an example Python class that has a private attribute and getter and setter methods:"
   ]
  },
  {
   "cell_type": "code",
   "execution_count": 4,
   "id": "1a46faa0-0379-4e04-abe6-77f5769d42a5",
   "metadata": {},
   "outputs": [],
   "source": [
    "class Person:\n",
    "    def __init__(self, name, age ):\n",
    "        self.name = name\n",
    "        self.age = age\n",
    "        \n",
    "    def get_name(self):\n",
    "        return self.name\n",
    "    \n",
    "    def set_name(self):\n",
    "        return self.name\n",
    "    \n",
    "    def get_age(self):\n",
    "        return self.age\n",
    "    \n",
    "    def set_age(self):\n",
    "        return self.age"
   ]
  },
  {
   "cell_type": "code",
   "execution_count": 10,
   "id": "3814b052-9b5e-4a89-8e76-ac4b739b25e1",
   "metadata": {},
   "outputs": [
    {
     "data": {
      "text/plain": [
       "'Sudh'"
      ]
     },
     "execution_count": 10,
     "metadata": {},
     "output_type": "execute_result"
    }
   ],
   "source": [
    "person = Person(\"Sudh\", 30)\n",
    "person.get_name()\n"
   ]
  },
  {
   "cell_type": "code",
   "execution_count": 11,
   "id": "7ce88136-797a-40d3-adad-5afc6718d822",
   "metadata": {},
   "outputs": [
    {
     "data": {
      "text/plain": [
       "30"
      ]
     },
     "execution_count": 11,
     "metadata": {},
     "output_type": "execute_result"
    }
   ],
   "source": [
    "person.get_age()"
   ]
  },
  {
   "cell_type": "code",
   "execution_count": null,
   "id": "80386093-2da4-4714-bc5d-1d032189cfb4",
   "metadata": {},
   "outputs": [],
   "source": []
  },
  {
   "cell_type": "markdown",
   "id": "71667a73-f37e-4646-99a9-8fe16cfa1c97",
   "metadata": {},
   "source": [
    "# Ans. 5"
   ]
  },
  {
   "cell_type": "markdown",
   "id": "954c80d5-1252-44ad-b19a-b1e7df4a4b30",
   "metadata": {},
   "source": [
    "Method overriding is a feature of object-oriented programming in which a subclass provides its own implementation of a method that is already defined in its parent class. When a method is overridden in a subclass, the new implementation takes precedence over the implementation in the parent class.\n",
    "\n",
    "Here is an example Python code to demonstrate method overriding:"
   ]
  },
  {
   "cell_type": "code",
   "execution_count": 17,
   "id": "98eefe90-833d-4329-ae14-8ee06f5e8b1c",
   "metadata": {},
   "outputs": [
    {
     "name": "stdout",
     "output_type": "stream",
     "text": [
      "The animal speaks.\n",
      "The dog barks.\n",
      "The cat meows.\n"
     ]
    }
   ],
   "source": [
    "class Animal:\n",
    "    def speak(self):\n",
    "        print(\"The animal speaks.\")\n",
    "        \n",
    "class Dog(Animal):\n",
    "    def speak(self):\n",
    "        print(\"The dog barks.\")\n",
    "        \n",
    "class Cat(Animal):\n",
    "    def speak(self):\n",
    "        print(\"The cat meows.\")\n",
    "        \n",
    "animal = Animal()\n",
    "animal.speak()  \n",
    "\n",
    "dog = Dog()\n",
    "dog.speak()    \n",
    "\n",
    "cat = Cat()\n",
    "cat.speak() "
   ]
  },
  {
   "cell_type": "code",
   "execution_count": null,
   "id": "530e915b-d985-430d-bd56-af64350f42af",
   "metadata": {},
   "outputs": [],
   "source": []
  },
  {
   "cell_type": "code",
   "execution_count": null,
   "id": "fb4db299-52ea-4f32-b94c-1b09721273a8",
   "metadata": {},
   "outputs": [],
   "source": []
  }
 ],
 "metadata": {
  "kernelspec": {
   "display_name": "Python 3 (ipykernel)",
   "language": "python",
   "name": "python3"
  },
  "language_info": {
   "codemirror_mode": {
    "name": "ipython",
    "version": 3
   },
   "file_extension": ".py",
   "mimetype": "text/x-python",
   "name": "python",
   "nbconvert_exporter": "python",
   "pygments_lexer": "ipython3",
   "version": "3.10.8"
  }
 },
 "nbformat": 4,
 "nbformat_minor": 5
}
