{
 "cells": [
  {
   "cell_type": "markdown",
   "id": "fe6858ec-877d-404a-bd0e-34c9fa27b9f2",
   "metadata": {
    "tags": []
   },
   "source": [
    "# Q1: Explain with an example each when to use a for loop and a while loop."
   ]
  },
  {
   "cell_type": "markdown",
   "id": "3b1efe5a-8cfc-423e-9cb7-7fbca7c23306",
   "metadata": {},
   "source": [
    "#Ans_1: for loop is used when you want to iterate over a sequence (such as a list, tuple, or string) or other iterable object and execute a block of code for each item. Here's an example in Python."
   ]
  },
  {
   "cell_type": "code",
   "execution_count": null,
   "id": "849006a6-953f-42f2-b174-b4293554bb70",
   "metadata": {},
   "outputs": [],
   "source": [
    "My_list = [ \"Krish\", \"Naik\", \"Sudh\", \"Kumar\" ]\n",
    "for i in My_list:\n",
    "    print(i)"
   ]
  },
  {
   "cell_type": "markdown",
   "id": "20aea167-2fd8-454b-a15d-b2df362d44de",
   "metadata": {},
   "source": [
    "A while loop is used when you don't know the number of iterations ahead of time, but you want to keep looping as long as a certain condition is true. For example"
   ]
  },
  {
   "cell_type": "code",
   "execution_count": null,
   "id": "19934651-7bfa-4191-830f-15ea5a8219a0",
   "metadata": {},
   "outputs": [],
   "source": [
    "i = 0\n",
    "while i < 5:\n",
    "    print(i)\n",
    "    i = i + 1"
   ]
  },
  {
   "cell_type": "markdown",
   "id": "6eaf6f63-7af0-438d-832e-5c7f29cb5876",
   "metadata": {},
   "source": [
    "# Q2. Write a python program to print the sum and the product of the first 10 natural number using for and while loop."
   ]
  },
  {
   "cell_type": "markdown",
   "id": "3fef651d-5f3d-4c35-836f-d3f1a3f83973",
   "metadata": {},
   "source": [
    "## Sum and the product of the first 10 natural number using for loop"
   ]
  },
  {
   "cell_type": "code",
   "execution_count": null,
   "id": "8f1b9dc7-0558-43f2-9bd4-7a54f95f5ca5",
   "metadata": {},
   "outputs": [],
   "source": [
    "sum = 0\n",
    "product = 1\n",
    "for i in range(1, 11):\n",
    "    sum += i\n",
    "    product *= i\n",
    "print(\"Sum of the first 10 natural numbers:\", sum)\n",
    "print(\"Product of the first 10 natural numbers:\", product)"
   ]
  },
  {
   "cell_type": "markdown",
   "id": "467995ed-2942-4237-bf74-dbd4124a9285",
   "metadata": {},
   "source": [
    "## Sum and the product of the first 10 natural number using while loop."
   ]
  },
  {
   "cell_type": "code",
   "execution_count": null,
   "id": "e7eeb432-2e5f-47f4-af2e-7e891f44de73",
   "metadata": {},
   "outputs": [],
   "source": [
    "sum = 0\n",
    "product = 1\n",
    "i = 1\n",
    "while i <= 10:\n",
    "    sum += i\n",
    "    product *= i\n",
    "    i += 1\n",
    "print(\"Sum of the first 10 natural numbers:\", sum)\n",
    "print(\"Product of the first 10 natural numbers:\", product)"
   ]
  },
  {
   "cell_type": "code",
   "execution_count": null,
   "id": "1a9baa9f-bb6c-4c38-be3f-6342b00f5bab",
   "metadata": {},
   "outputs": [],
   "source": []
  },
  {
   "cell_type": "markdown",
   "id": "5bd4d4d8-3165-40b9-95fd-a5b4090ff63d",
   "metadata": {},
   "source": [
    "# Q3. Create a python program to compute the electricity bill for a household.\n",
    "The per-unit charges in rupees are as follows: For the first 100 units, the user will be charged Rs. 4.5 per\n",
    "unit, for the next 100 units, the user will be charged Rs. 6 per unit, and for the next 100 units, the user will\n",
    "be charged Rs. 10 per unit, After 300 units and above the user will be charged Rs. 20 per unit.\n",
    "You are required to take the units of electricity consumed in a month from the user as input.\n",
    "Your program must pass this test case: when the unit of electricity consumed by the user in a month is\n",
    "310, the total electricity bill should be 2250."
   ]
  },
  {
   "cell_type": "code",
   "execution_count": 1,
   "id": "d6f06651-22f5-4dfa-afe1-21d9175b291b",
   "metadata": {},
   "outputs": [
    {
     "name": "stdin",
     "output_type": "stream",
     "text": [
      "Enter the number of units consumed:  310\n"
     ]
    },
    {
     "name": "stdout",
     "output_type": "stream",
     "text": [
      "The total electricity bill is: 2250.0 rupees.\n"
     ]
    }
   ],
   "source": [
    "units = int(input(\"Enter the number of units consumed: \"))\n",
    "\n",
    "if units <= 100:\n",
    "    bill = units * 4.5\n",
    "elif units <= 200:\n",
    "    bill = (100 * 4.5) + ((units - 100) * 6)\n",
    "elif units <= 300:\n",
    "    bill = (100 * 4.5) + (100 * 6) + ((units - 200) * 10)\n",
    "else:\n",
    "    bill = (100 * 4.5) + (100 * 6) + (100 * 10) + ((units - 300) * 20)\n",
    "\n",
    "print(\"The total electricity bill is:\", bill, \"rupees.\")"
   ]
  },
  {
   "cell_type": "code",
   "execution_count": null,
   "id": "bd6d54a3-84ab-4db0-ab04-3d771ba0ebb1",
   "metadata": {},
   "outputs": [],
   "source": [
    "\n"
   ]
  },
  {
   "cell_type": "markdown",
   "id": "605c5ca0-9784-4e46-aba3-8f587a2d9811",
   "metadata": {},
   "source": [
    "# Q4. Create a list of numbers from 1 to 100. Use for loop and while loop to calculate the cube of each\n",
    "# number and if the cube of that number is divisible by 4 or 5 then append that number in a list and print that list."
   ]
  },
  {
   "cell_type": "code",
   "execution_count": null,
   "id": "83d08886-6200-4614-83f1-4caf949cdb36",
   "metadata": {},
   "outputs": [],
   "source": [
    "# using for loop\n",
    "\n",
    "cubes = []\n",
    "for i in range(1, 101):\n",
    "    cube = i**3\n",
    "    if cube % 4 == 0 or cube % 5 == 0:\n",
    "        cubes.append(cube)\n",
    "print(\"The cubes that are divisible by 4 or 5:\", cubes)"
   ]
  },
  {
   "cell_type": "code",
   "execution_count": null,
   "id": "5f67d099-166b-42a5-b1e1-731157c075d2",
   "metadata": {},
   "outputs": [],
   "source": [
    "# using while loop\n",
    "\n",
    "cubes = []\n",
    "i = 1\n",
    "while i <= 100:\n",
    "    cube = i**3\n",
    "    if cube % 4 == 0 or cube % 5 == 0:\n",
    "        cubes.append(cube)\n",
    "    i += 1\n",
    "print(\"The cubes that are divisible by 4 or 5:\", cubes)"
   ]
  },
  {
   "cell_type": "code",
   "execution_count": null,
   "id": "b1e55361-33de-41b5-ab98-48d4c80e4906",
   "metadata": {},
   "outputs": [],
   "source": []
  },
  {
   "cell_type": "markdown",
   "id": "dfcea916-88ea-4e14-8827-5ad6561bb2f3",
   "metadata": {},
   "source": [
    "# Q5. Write a program to filter count vowels in the below-given string.\n",
    "# string = \"I want to become a data scientist\""
   ]
  },
  {
   "cell_type": "code",
   "execution_count": null,
   "id": "d0424316-cc16-46db-887e-d91300b6a2dd",
   "metadata": {},
   "outputs": [],
   "source": [
    "string = \"I want to become a data scientist\"\n",
    "vowels = \"aeiouAEIOU\"\n",
    "count = 0\n",
    "for character in string:\n",
    "    if character in vowels:\n",
    "        count += 1\n",
    "print(\"Number of vowels in the string:\", count)"
   ]
  },
  {
   "cell_type": "code",
   "execution_count": null,
   "id": "01a03aab-3d62-4857-a672-1d35cd7b5d3e",
   "metadata": {},
   "outputs": [],
   "source": []
  }
 ],
 "metadata": {
  "kernelspec": {
   "display_name": "Python 3 (ipykernel)",
   "language": "python",
   "name": "python3"
  },
  "language_info": {
   "codemirror_mode": {
    "name": "ipython",
    "version": 3
   },
   "file_extension": ".py",
   "mimetype": "text/x-python",
   "name": "python",
   "nbconvert_exporter": "python",
   "pygments_lexer": "ipython3",
   "version": "3.10.8"
  }
 },
 "nbformat": 4,
 "nbformat_minor": 5
}
